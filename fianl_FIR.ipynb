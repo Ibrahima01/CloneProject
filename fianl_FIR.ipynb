{
 "cells": [
  {
   "cell_type": "code",
   "execution_count": 1,
   "metadata": {},
   "outputs": [],
   "source": [
    "import pandas as pd"
   ]
  },
  {
   "cell_type": "code",
   "execution_count": 2,
   "metadata": {},
   "outputs": [],
   "source": [
    "import numpy as np\n",
    "from sklearn import svm\n",
    "from sklearn.model_selection import train_test_split\n",
    "from sklearn import preprocessing\n",
    "from sklearn.preprocessing import StandardScaler\n",
    "from sklearn.metrics import accuracy_score, precision_score, recall_score, f1_score\n",
    "from sklearn.linear_model import LogisticRegression\n",
    "from sklearn import preprocessing\n",
    "from sklearn.tree import DecisionTreeClassifier\n",
    "from sklearn.ensemble import RandomForestClassifier\n",
    "from sklearn.ensemble import VotingClassifier\n",
    "from sklearn.ensemble import AdaBoostClassifier"
   ]
  },
  {
   "cell_type": "code",
   "execution_count": 3,
   "metadata": {},
   "outputs": [],
   "source": [
    "df_01=pd.read_csv(\"df_01.csv\")"
   ]
  },
  {
   "cell_type": "code",
   "execution_count": 4,
   "metadata": {},
   "outputs": [
    {
     "data": {
      "text/html": [
       "<div>\n",
       "<style scoped>\n",
       "    .dataframe tbody tr th:only-of-type {\n",
       "        vertical-align: middle;\n",
       "    }\n",
       "\n",
       "    .dataframe tbody tr th {\n",
       "        vertical-align: top;\n",
       "    }\n",
       "\n",
       "    .dataframe thead th {\n",
       "        text-align: right;\n",
       "    }\n",
       "</style>\n",
       "<table border=\"1\" class=\"dataframe\">\n",
       "  <thead>\n",
       "    <tr style=\"text-align: right;\">\n",
       "      <th></th>\n",
       "      <th>ID</th>\n",
       "      <th>exm3350-0_T_F_1921558625</th>\n",
       "      <th>exm-rs12025416-131_T_R_1990487911</th>\n",
       "      <th>exm21233-0_T_R_1921451944</th>\n",
       "      <th>exm2249550-0_T_F_1975242973</th>\n",
       "      <th>exm20133-0_T_R_1921577924</th>\n",
       "      <th>exm60054-0_T_R_1921456966</th>\n",
       "      <th>exm47882-0_T_R_1921419474</th>\n",
       "      <th>exm77508-0_T_R_1921386830</th>\n",
       "      <th>exm90300-0_B_F_1921357425</th>\n",
       "      <th>...</th>\n",
       "      <th>exm33503-0_B_F_1921508153</th>\n",
       "      <th>exm33499-0_T_R_1921506528</th>\n",
       "      <th>exm1781797-0_T_F_2060130192</th>\n",
       "      <th>exm33494-0_T_F_1921554879</th>\n",
       "      <th>exm33490-0_T_R_1919125966</th>\n",
       "      <th>exm33477-0_B_F_1921556139</th>\n",
       "      <th>exm33473-0_T_R_1921481974</th>\n",
       "      <th>exm33466-0_B_F_1921359177</th>\n",
       "      <th>exm33461-0_B_F_1921557543</th>\n",
       "      <th>exm33574-0_T_R_1919124610</th>\n",
       "    </tr>\n",
       "  </thead>\n",
       "  <tbody>\n",
       "    <tr>\n",
       "      <th>0</th>\n",
       "      <td>1900017</td>\n",
       "      <td>2</td>\n",
       "      <td>2</td>\n",
       "      <td>1</td>\n",
       "      <td>1</td>\n",
       "      <td>2</td>\n",
       "      <td>1</td>\n",
       "      <td>0</td>\n",
       "      <td>2</td>\n",
       "      <td>2</td>\n",
       "      <td>...</td>\n",
       "      <td>2</td>\n",
       "      <td>0</td>\n",
       "      <td>2</td>\n",
       "      <td>2</td>\n",
       "      <td>2</td>\n",
       "      <td>2</td>\n",
       "      <td>2</td>\n",
       "      <td>2</td>\n",
       "      <td>2</td>\n",
       "      <td>2</td>\n",
       "    </tr>\n",
       "    <tr>\n",
       "      <th>1</th>\n",
       "      <td>1900029</td>\n",
       "      <td>1</td>\n",
       "      <td>1</td>\n",
       "      <td>2</td>\n",
       "      <td>1</td>\n",
       "      <td>1</td>\n",
       "      <td>1</td>\n",
       "      <td>0</td>\n",
       "      <td>2</td>\n",
       "      <td>2</td>\n",
       "      <td>...</td>\n",
       "      <td>2</td>\n",
       "      <td>0</td>\n",
       "      <td>2</td>\n",
       "      <td>2</td>\n",
       "      <td>2</td>\n",
       "      <td>2</td>\n",
       "      <td>2</td>\n",
       "      <td>2</td>\n",
       "      <td>2</td>\n",
       "      <td>2</td>\n",
       "    </tr>\n",
       "    <tr>\n",
       "      <th>2</th>\n",
       "      <td>1900030</td>\n",
       "      <td>1</td>\n",
       "      <td>2</td>\n",
       "      <td>1</td>\n",
       "      <td>2</td>\n",
       "      <td>1</td>\n",
       "      <td>1</td>\n",
       "      <td>0</td>\n",
       "      <td>2</td>\n",
       "      <td>2</td>\n",
       "      <td>...</td>\n",
       "      <td>2</td>\n",
       "      <td>0</td>\n",
       "      <td>2</td>\n",
       "      <td>2</td>\n",
       "      <td>2</td>\n",
       "      <td>2</td>\n",
       "      <td>2</td>\n",
       "      <td>2</td>\n",
       "      <td>2</td>\n",
       "      <td>2</td>\n",
       "    </tr>\n",
       "    <tr>\n",
       "      <th>3</th>\n",
       "      <td>1900031</td>\n",
       "      <td>1</td>\n",
       "      <td>2</td>\n",
       "      <td>2</td>\n",
       "      <td>1</td>\n",
       "      <td>2</td>\n",
       "      <td>1</td>\n",
       "      <td>0</td>\n",
       "      <td>2</td>\n",
       "      <td>2</td>\n",
       "      <td>...</td>\n",
       "      <td>2</td>\n",
       "      <td>0</td>\n",
       "      <td>2</td>\n",
       "      <td>2</td>\n",
       "      <td>2</td>\n",
       "      <td>2</td>\n",
       "      <td>2</td>\n",
       "      <td>2</td>\n",
       "      <td>2</td>\n",
       "      <td>2</td>\n",
       "    </tr>\n",
       "    <tr>\n",
       "      <th>4</th>\n",
       "      <td>1900040</td>\n",
       "      <td>2</td>\n",
       "      <td>2</td>\n",
       "      <td>1</td>\n",
       "      <td>1</td>\n",
       "      <td>2</td>\n",
       "      <td>1</td>\n",
       "      <td>0</td>\n",
       "      <td>2</td>\n",
       "      <td>2</td>\n",
       "      <td>...</td>\n",
       "      <td>2</td>\n",
       "      <td>0</td>\n",
       "      <td>2</td>\n",
       "      <td>2</td>\n",
       "      <td>2</td>\n",
       "      <td>2</td>\n",
       "      <td>2</td>\n",
       "      <td>2</td>\n",
       "      <td>2</td>\n",
       "      <td>2</td>\n",
       "    </tr>\n",
       "  </tbody>\n",
       "</table>\n",
       "<p>5 rows × 423 columns</p>\n",
       "</div>"
      ],
      "text/plain": [
       "        ID  exm3350-0_T_F_1921558625  exm-rs12025416-131_T_R_1990487911  \\\n",
       "0  1900017                         2                                  2   \n",
       "1  1900029                         1                                  1   \n",
       "2  1900030                         1                                  2   \n",
       "3  1900031                         1                                  2   \n",
       "4  1900040                         2                                  2   \n",
       "\n",
       "   exm21233-0_T_R_1921451944  exm2249550-0_T_F_1975242973  \\\n",
       "0                          1                            1   \n",
       "1                          2                            1   \n",
       "2                          1                            2   \n",
       "3                          2                            1   \n",
       "4                          1                            1   \n",
       "\n",
       "   exm20133-0_T_R_1921577924  exm60054-0_T_R_1921456966  \\\n",
       "0                          2                          1   \n",
       "1                          1                          1   \n",
       "2                          1                          1   \n",
       "3                          2                          1   \n",
       "4                          2                          1   \n",
       "\n",
       "   exm47882-0_T_R_1921419474  exm77508-0_T_R_1921386830  \\\n",
       "0                          0                          2   \n",
       "1                          0                          2   \n",
       "2                          0                          2   \n",
       "3                          0                          2   \n",
       "4                          0                          2   \n",
       "\n",
       "   exm90300-0_B_F_1921357425  ...  exm33503-0_B_F_1921508153  \\\n",
       "0                          2  ...                          2   \n",
       "1                          2  ...                          2   \n",
       "2                          2  ...                          2   \n",
       "3                          2  ...                          2   \n",
       "4                          2  ...                          2   \n",
       "\n",
       "   exm33499-0_T_R_1921506528  exm1781797-0_T_F_2060130192  \\\n",
       "0                          0                            2   \n",
       "1                          0                            2   \n",
       "2                          0                            2   \n",
       "3                          0                            2   \n",
       "4                          0                            2   \n",
       "\n",
       "   exm33494-0_T_F_1921554879  exm33490-0_T_R_1919125966  \\\n",
       "0                          2                          2   \n",
       "1                          2                          2   \n",
       "2                          2                          2   \n",
       "3                          2                          2   \n",
       "4                          2                          2   \n",
       "\n",
       "   exm33477-0_B_F_1921556139  exm33473-0_T_R_1921481974  \\\n",
       "0                          2                          2   \n",
       "1                          2                          2   \n",
       "2                          2                          2   \n",
       "3                          2                          2   \n",
       "4                          2                          2   \n",
       "\n",
       "   exm33466-0_B_F_1921359177  exm33461-0_B_F_1921557543  \\\n",
       "0                          2                          2   \n",
       "1                          2                          2   \n",
       "2                          2                          2   \n",
       "3                          2                          2   \n",
       "4                          2                          2   \n",
       "\n",
       "   exm33574-0_T_R_1919124610  \n",
       "0                          2  \n",
       "1                          2  \n",
       "2                          2  \n",
       "3                          2  \n",
       "4                          2  \n",
       "\n",
       "[5 rows x 423 columns]"
      ]
     },
     "execution_count": 4,
     "metadata": {},
     "output_type": "execute_result"
    }
   ],
   "source": [
    "df_01.head()"
   ]
  },
  {
   "cell_type": "code",
   "execution_count": 5,
   "metadata": {},
   "outputs": [],
   "source": [
    "df_02=pd.read_csv(\"df_02.csv\")"
   ]
  },
  {
   "cell_type": "code",
   "execution_count": 6,
   "metadata": {},
   "outputs": [
    {
     "data": {
      "text/html": [
       "<div>\n",
       "<style scoped>\n",
       "    .dataframe tbody tr th:only-of-type {\n",
       "        vertical-align: middle;\n",
       "    }\n",
       "\n",
       "    .dataframe tbody tr th {\n",
       "        vertical-align: top;\n",
       "    }\n",
       "\n",
       "    .dataframe thead th {\n",
       "        text-align: right;\n",
       "    }\n",
       "</style>\n",
       "<table border=\"1\" class=\"dataframe\">\n",
       "  <thead>\n",
       "    <tr style=\"text-align: right;\">\n",
       "      <th></th>\n",
       "      <th>ID</th>\n",
       "      <th>exm159094-0_T_F_1921574437</th>\n",
       "      <th>exm-rs1772408-131_T_R_1990489361</th>\n",
       "      <th>exm127219-0_T_F_2058864306</th>\n",
       "      <th>exm148335-0_B_F_1921493501</th>\n",
       "      <th>exm153256-0_T_R_1921428648</th>\n",
       "      <th>exm2232975-0_T_F_2058864485</th>\n",
       "      <th>exm-rs1061170-131_T_R_1990487163</th>\n",
       "      <th>exm98395-0_T_R_1921466174</th>\n",
       "      <th>exm115251-0_T_F_1921512629</th>\n",
       "      <th>...</th>\n",
       "      <th>exm122371-0_B_F_1921517659</th>\n",
       "      <th>exm122370-0_B_F_1919160627</th>\n",
       "      <th>exm122367-0_B_R_2060143136</th>\n",
       "      <th>exm122363-0_T_R_1919127492</th>\n",
       "      <th>exm122337-0_T_F_1921554957</th>\n",
       "      <th>exm2231794-0_T_R_1960095426</th>\n",
       "      <th>exm122508-0_T_R_1921364576</th>\n",
       "      <th>exm122521-0_B_R_1921390266</th>\n",
       "      <th>exm122522-0_T_R_1921482870</th>\n",
       "      <th>exm122641-0_B_F_1921533649</th>\n",
       "    </tr>\n",
       "  </thead>\n",
       "  <tbody>\n",
       "    <tr>\n",
       "      <th>0</th>\n",
       "      <td>1900017</td>\n",
       "      <td>1</td>\n",
       "      <td>0</td>\n",
       "      <td>0</td>\n",
       "      <td>1</td>\n",
       "      <td>1</td>\n",
       "      <td>2</td>\n",
       "      <td>1</td>\n",
       "      <td>0</td>\n",
       "      <td>2</td>\n",
       "      <td>...</td>\n",
       "      <td>2</td>\n",
       "      <td>2</td>\n",
       "      <td>2</td>\n",
       "      <td>0</td>\n",
       "      <td>2</td>\n",
       "      <td>2</td>\n",
       "      <td>0</td>\n",
       "      <td>2</td>\n",
       "      <td>0</td>\n",
       "      <td>2</td>\n",
       "    </tr>\n",
       "    <tr>\n",
       "      <th>1</th>\n",
       "      <td>1900029</td>\n",
       "      <td>1</td>\n",
       "      <td>2</td>\n",
       "      <td>0</td>\n",
       "      <td>1</td>\n",
       "      <td>2</td>\n",
       "      <td>1</td>\n",
       "      <td>1</td>\n",
       "      <td>0</td>\n",
       "      <td>2</td>\n",
       "      <td>...</td>\n",
       "      <td>2</td>\n",
       "      <td>2</td>\n",
       "      <td>2</td>\n",
       "      <td>0</td>\n",
       "      <td>2</td>\n",
       "      <td>2</td>\n",
       "      <td>0</td>\n",
       "      <td>2</td>\n",
       "      <td>0</td>\n",
       "      <td>2</td>\n",
       "    </tr>\n",
       "    <tr>\n",
       "      <th>2</th>\n",
       "      <td>1900030</td>\n",
       "      <td>0</td>\n",
       "      <td>0</td>\n",
       "      <td>0</td>\n",
       "      <td>1</td>\n",
       "      <td>2</td>\n",
       "      <td>2</td>\n",
       "      <td>2</td>\n",
       "      <td>0</td>\n",
       "      <td>2</td>\n",
       "      <td>...</td>\n",
       "      <td>2</td>\n",
       "      <td>2</td>\n",
       "      <td>2</td>\n",
       "      <td>0</td>\n",
       "      <td>2</td>\n",
       "      <td>2</td>\n",
       "      <td>0</td>\n",
       "      <td>2</td>\n",
       "      <td>0</td>\n",
       "      <td>2</td>\n",
       "    </tr>\n",
       "    <tr>\n",
       "      <th>3</th>\n",
       "      <td>1900031</td>\n",
       "      <td>0</td>\n",
       "      <td>0</td>\n",
       "      <td>0</td>\n",
       "      <td>2</td>\n",
       "      <td>2</td>\n",
       "      <td>2</td>\n",
       "      <td>0</td>\n",
       "      <td>0</td>\n",
       "      <td>2</td>\n",
       "      <td>...</td>\n",
       "      <td>2</td>\n",
       "      <td>2</td>\n",
       "      <td>2</td>\n",
       "      <td>0</td>\n",
       "      <td>2</td>\n",
       "      <td>2</td>\n",
       "      <td>0</td>\n",
       "      <td>2</td>\n",
       "      <td>0</td>\n",
       "      <td>2</td>\n",
       "    </tr>\n",
       "    <tr>\n",
       "      <th>4</th>\n",
       "      <td>1900040</td>\n",
       "      <td>0</td>\n",
       "      <td>2</td>\n",
       "      <td>0</td>\n",
       "      <td>1</td>\n",
       "      <td>2</td>\n",
       "      <td>2</td>\n",
       "      <td>0</td>\n",
       "      <td>0</td>\n",
       "      <td>2</td>\n",
       "      <td>...</td>\n",
       "      <td>2</td>\n",
       "      <td>2</td>\n",
       "      <td>2</td>\n",
       "      <td>0</td>\n",
       "      <td>2</td>\n",
       "      <td>2</td>\n",
       "      <td>0</td>\n",
       "      <td>2</td>\n",
       "      <td>0</td>\n",
       "      <td>2</td>\n",
       "    </tr>\n",
       "  </tbody>\n",
       "</table>\n",
       "<p>5 rows × 411 columns</p>\n",
       "</div>"
      ],
      "text/plain": [
       "        ID  exm159094-0_T_F_1921574437  exm-rs1772408-131_T_R_1990489361  \\\n",
       "0  1900017                           1                                 0   \n",
       "1  1900029                           1                                 2   \n",
       "2  1900030                           0                                 0   \n",
       "3  1900031                           0                                 0   \n",
       "4  1900040                           0                                 2   \n",
       "\n",
       "   exm127219-0_T_F_2058864306  exm148335-0_B_F_1921493501  \\\n",
       "0                           0                           1   \n",
       "1                           0                           1   \n",
       "2                           0                           1   \n",
       "3                           0                           2   \n",
       "4                           0                           1   \n",
       "\n",
       "   exm153256-0_T_R_1921428648  exm2232975-0_T_F_2058864485  \\\n",
       "0                           1                            2   \n",
       "1                           2                            1   \n",
       "2                           2                            2   \n",
       "3                           2                            2   \n",
       "4                           2                            2   \n",
       "\n",
       "   exm-rs1061170-131_T_R_1990487163  exm98395-0_T_R_1921466174  \\\n",
       "0                                 1                          0   \n",
       "1                                 1                          0   \n",
       "2                                 2                          0   \n",
       "3                                 0                          0   \n",
       "4                                 0                          0   \n",
       "\n",
       "   exm115251-0_T_F_1921512629  ...  exm122371-0_B_F_1921517659  \\\n",
       "0                           2  ...                           2   \n",
       "1                           2  ...                           2   \n",
       "2                           2  ...                           2   \n",
       "3                           2  ...                           2   \n",
       "4                           2  ...                           2   \n",
       "\n",
       "   exm122370-0_B_F_1919160627  exm122367-0_B_R_2060143136  \\\n",
       "0                           2                           2   \n",
       "1                           2                           2   \n",
       "2                           2                           2   \n",
       "3                           2                           2   \n",
       "4                           2                           2   \n",
       "\n",
       "   exm122363-0_T_R_1919127492  exm122337-0_T_F_1921554957  \\\n",
       "0                           0                           2   \n",
       "1                           0                           2   \n",
       "2                           0                           2   \n",
       "3                           0                           2   \n",
       "4                           0                           2   \n",
       "\n",
       "   exm2231794-0_T_R_1960095426  exm122508-0_T_R_1921364576  \\\n",
       "0                            2                           0   \n",
       "1                            2                           0   \n",
       "2                            2                           0   \n",
       "3                            2                           0   \n",
       "4                            2                           0   \n",
       "\n",
       "   exm122521-0_B_R_1921390266  exm122522-0_T_R_1921482870  \\\n",
       "0                           2                           0   \n",
       "1                           2                           0   \n",
       "2                           2                           0   \n",
       "3                           2                           0   \n",
       "4                           2                           0   \n",
       "\n",
       "   exm122641-0_B_F_1921533649  \n",
       "0                           2  \n",
       "1                           2  \n",
       "2                           2  \n",
       "3                           2  \n",
       "4                           2  \n",
       "\n",
       "[5 rows x 411 columns]"
      ]
     },
     "execution_count": 6,
     "metadata": {},
     "output_type": "execute_result"
    }
   ],
   "source": [
    "df_02.head()"
   ]
  },
  {
   "cell_type": "code",
   "execution_count": 7,
   "metadata": {},
   "outputs": [],
   "source": [
    "df_03=pd.read_csv(\"df_03.csv\")"
   ]
  },
  {
   "cell_type": "code",
   "execution_count": 8,
   "metadata": {},
   "outputs": [],
   "source": [
    "df_04=pd.read_csv(\"df_04.csv\")"
   ]
  },
  {
   "cell_type": "code",
   "execution_count": 9,
   "metadata": {},
   "outputs": [],
   "source": [
    "df_05=pd.read_csv(\"df_05.csv\")"
   ]
  },
  {
   "cell_type": "code",
   "execution_count": 10,
   "metadata": {},
   "outputs": [],
   "source": [
    "df_06=pd.read_csv(\"df_06.csv\")"
   ]
  },
  {
   "cell_type": "code",
   "execution_count": 11,
   "metadata": {},
   "outputs": [],
   "source": [
    "df_07=pd.read_csv(\"df_07.csv\")"
   ]
  },
  {
   "cell_type": "code",
   "execution_count": 12,
   "metadata": {},
   "outputs": [],
   "source": [
    "df_08=pd.read_csv(\"df_08.csv\")"
   ]
  },
  {
   "cell_type": "code",
   "execution_count": 13,
   "metadata": {},
   "outputs": [],
   "source": [
    "df_09=pd.read_csv(\"df_09.csv\")"
   ]
  },
  {
   "cell_type": "code",
   "execution_count": 14,
   "metadata": {},
   "outputs": [],
   "source": [
    "df_10=pd.read_csv(\"df_10.csv\")"
   ]
  },
  {
   "cell_type": "code",
   "execution_count": 15,
   "metadata": {},
   "outputs": [],
   "source": [
    "df_11=pd.read_csv(\"df_11.csv\")"
   ]
  },
  {
   "cell_type": "code",
   "execution_count": 16,
   "metadata": {},
   "outputs": [],
   "source": [
    "df_12=pd.read_csv(\"df_12.csv\")"
   ]
  },
  {
   "cell_type": "code",
   "execution_count": 17,
   "metadata": {},
   "outputs": [],
   "source": [
    "df_13=pd.read_csv(\"df_13.csv\")"
   ]
  },
  {
   "cell_type": "code",
   "execution_count": 18,
   "metadata": {},
   "outputs": [],
   "source": [
    "df_14=pd.read_csv(\"df_14.csv\")"
   ]
  },
  {
   "cell_type": "code",
   "execution_count": 19,
   "metadata": {},
   "outputs": [],
   "source": [
    "df_15=pd.read_csv(\"df_15.csv\")"
   ]
  },
  {
   "cell_type": "code",
   "execution_count": 20,
   "metadata": {},
   "outputs": [],
   "source": [
    "df_16=pd.read_csv(\"df_16.csv\")"
   ]
  },
  {
   "cell_type": "code",
   "execution_count": 21,
   "metadata": {},
   "outputs": [],
   "source": [
    "df_17=pd.read_csv(\"df_17.csv\")"
   ]
  },
  {
   "cell_type": "code",
   "execution_count": 22,
   "metadata": {},
   "outputs": [],
   "source": [
    "df_18=pd.read_csv(\"df_18.csv\")"
   ]
  },
  {
   "cell_type": "code",
   "execution_count": 23,
   "metadata": {},
   "outputs": [],
   "source": [
    "df_19=pd.read_csv(\"df_19.csv\")"
   ]
  },
  {
   "cell_type": "code",
   "execution_count": 24,
   "metadata": {},
   "outputs": [],
   "source": [
    "dataframes = [df_01, df_02, df_03, df_04, df_05, df_06, df_07, df_08, df_09, df_10, df_11, df_12, df_13, df_14, df_15, df_16, df_17, df_18, df_19]"
   ]
  },
  {
   "cell_type": "code",
   "execution_count": 25,
   "metadata": {},
   "outputs": [],
   "source": [
    "df_base = df_01\n",
    "# Parcourez la liste des DataFrames restants pour effectuer la jointure\n",
    "for df in dataframes[1:]:\n",
    "    # Utilisez la méthode merge pour effectuer une jointure sur la colonne \"ID\"\n",
    "    df_base = df_base.merge(df, on=\"ID\", how=\"inner\")"
   ]
  },
  {
   "cell_type": "code",
   "execution_count": 26,
   "metadata": {},
   "outputs": [
    {
     "data": {
      "text/html": [
       "<div>\n",
       "<style scoped>\n",
       "    .dataframe tbody tr th:only-of-type {\n",
       "        vertical-align: middle;\n",
       "    }\n",
       "\n",
       "    .dataframe tbody tr th {\n",
       "        vertical-align: top;\n",
       "    }\n",
       "\n",
       "    .dataframe thead th {\n",
       "        text-align: right;\n",
       "    }\n",
       "</style>\n",
       "<table border=\"1\" class=\"dataframe\">\n",
       "  <thead>\n",
       "    <tr style=\"text-align: right;\">\n",
       "      <th></th>\n",
       "      <th>ID</th>\n",
       "      <th>exm3350-0_T_F_1921558625</th>\n",
       "      <th>exm-rs12025416-131_T_R_1990487911</th>\n",
       "      <th>exm21233-0_T_R_1921451944</th>\n",
       "      <th>exm2249550-0_T_F_1975242973</th>\n",
       "      <th>exm20133-0_T_R_1921577924</th>\n",
       "      <th>exm60054-0_T_R_1921456966</th>\n",
       "      <th>exm47882-0_T_R_1921419474</th>\n",
       "      <th>exm77508-0_T_R_1921386830</th>\n",
       "      <th>exm90300-0_B_F_1921357425</th>\n",
       "      <th>...</th>\n",
       "      <th>exm1633526-0_T_R_1922053372</th>\n",
       "      <th>exm1633648-0_B_F_1922079779</th>\n",
       "      <th>exm1633532-0_T_R_1922080432</th>\n",
       "      <th>exm2263054-0_T_R_1975245008</th>\n",
       "      <th>exm1633534-0_T_R_2060129411</th>\n",
       "      <th>exm1633538-0_B_R_1922080966</th>\n",
       "      <th>exm1633614-0_B_R_1922041120</th>\n",
       "      <th>exm2273238-0_B_F_1984849072</th>\n",
       "      <th>exm1633590-0_B_F_2060419211</th>\n",
       "      <th>exm1633583-0_B_R_2060131385</th>\n",
       "    </tr>\n",
       "  </thead>\n",
       "  <tbody>\n",
       "    <tr>\n",
       "      <th>0</th>\n",
       "      <td>1900017</td>\n",
       "      <td>2</td>\n",
       "      <td>2</td>\n",
       "      <td>1</td>\n",
       "      <td>1</td>\n",
       "      <td>2</td>\n",
       "      <td>1</td>\n",
       "      <td>0</td>\n",
       "      <td>2</td>\n",
       "      <td>2</td>\n",
       "      <td>...</td>\n",
       "      <td>0</td>\n",
       "      <td>2</td>\n",
       "      <td>0</td>\n",
       "      <td>0</td>\n",
       "      <td>2</td>\n",
       "      <td>2</td>\n",
       "      <td>2</td>\n",
       "      <td>2</td>\n",
       "      <td>2</td>\n",
       "      <td>2</td>\n",
       "    </tr>\n",
       "    <tr>\n",
       "      <th>1</th>\n",
       "      <td>1900029</td>\n",
       "      <td>1</td>\n",
       "      <td>1</td>\n",
       "      <td>2</td>\n",
       "      <td>1</td>\n",
       "      <td>1</td>\n",
       "      <td>1</td>\n",
       "      <td>0</td>\n",
       "      <td>2</td>\n",
       "      <td>2</td>\n",
       "      <td>...</td>\n",
       "      <td>0</td>\n",
       "      <td>2</td>\n",
       "      <td>0</td>\n",
       "      <td>0</td>\n",
       "      <td>2</td>\n",
       "      <td>2</td>\n",
       "      <td>2</td>\n",
       "      <td>2</td>\n",
       "      <td>2</td>\n",
       "      <td>2</td>\n",
       "    </tr>\n",
       "    <tr>\n",
       "      <th>2</th>\n",
       "      <td>1900030</td>\n",
       "      <td>1</td>\n",
       "      <td>2</td>\n",
       "      <td>1</td>\n",
       "      <td>2</td>\n",
       "      <td>1</td>\n",
       "      <td>1</td>\n",
       "      <td>0</td>\n",
       "      <td>2</td>\n",
       "      <td>2</td>\n",
       "      <td>...</td>\n",
       "      <td>0</td>\n",
       "      <td>2</td>\n",
       "      <td>0</td>\n",
       "      <td>2</td>\n",
       "      <td>2</td>\n",
       "      <td>2</td>\n",
       "      <td>2</td>\n",
       "      <td>2</td>\n",
       "      <td>2</td>\n",
       "      <td>2</td>\n",
       "    </tr>\n",
       "    <tr>\n",
       "      <th>3</th>\n",
       "      <td>1900031</td>\n",
       "      <td>1</td>\n",
       "      <td>2</td>\n",
       "      <td>2</td>\n",
       "      <td>1</td>\n",
       "      <td>2</td>\n",
       "      <td>1</td>\n",
       "      <td>0</td>\n",
       "      <td>2</td>\n",
       "      <td>2</td>\n",
       "      <td>...</td>\n",
       "      <td>0</td>\n",
       "      <td>2</td>\n",
       "      <td>0</td>\n",
       "      <td>0</td>\n",
       "      <td>2</td>\n",
       "      <td>2</td>\n",
       "      <td>2</td>\n",
       "      <td>2</td>\n",
       "      <td>2</td>\n",
       "      <td>2</td>\n",
       "    </tr>\n",
       "    <tr>\n",
       "      <th>4</th>\n",
       "      <td>1900040</td>\n",
       "      <td>2</td>\n",
       "      <td>2</td>\n",
       "      <td>1</td>\n",
       "      <td>1</td>\n",
       "      <td>2</td>\n",
       "      <td>1</td>\n",
       "      <td>0</td>\n",
       "      <td>2</td>\n",
       "      <td>2</td>\n",
       "      <td>...</td>\n",
       "      <td>0</td>\n",
       "      <td>2</td>\n",
       "      <td>0</td>\n",
       "      <td>1</td>\n",
       "      <td>2</td>\n",
       "      <td>2</td>\n",
       "      <td>2</td>\n",
       "      <td>2</td>\n",
       "      <td>2</td>\n",
       "      <td>2</td>\n",
       "    </tr>\n",
       "  </tbody>\n",
       "</table>\n",
       "<p>5 rows × 7837 columns</p>\n",
       "</div>"
      ],
      "text/plain": [
       "        ID  exm3350-0_T_F_1921558625  exm-rs12025416-131_T_R_1990487911  \\\n",
       "0  1900017                         2                                  2   \n",
       "1  1900029                         1                                  1   \n",
       "2  1900030                         1                                  2   \n",
       "3  1900031                         1                                  2   \n",
       "4  1900040                         2                                  2   \n",
       "\n",
       "   exm21233-0_T_R_1921451944  exm2249550-0_T_F_1975242973  \\\n",
       "0                          1                            1   \n",
       "1                          2                            1   \n",
       "2                          1                            2   \n",
       "3                          2                            1   \n",
       "4                          1                            1   \n",
       "\n",
       "   exm20133-0_T_R_1921577924  exm60054-0_T_R_1921456966  \\\n",
       "0                          2                          1   \n",
       "1                          1                          1   \n",
       "2                          1                          1   \n",
       "3                          2                          1   \n",
       "4                          2                          1   \n",
       "\n",
       "   exm47882-0_T_R_1921419474  exm77508-0_T_R_1921386830  \\\n",
       "0                          0                          2   \n",
       "1                          0                          2   \n",
       "2                          0                          2   \n",
       "3                          0                          2   \n",
       "4                          0                          2   \n",
       "\n",
       "   exm90300-0_B_F_1921357425  ...  exm1633526-0_T_R_1922053372  \\\n",
       "0                          2  ...                            0   \n",
       "1                          2  ...                            0   \n",
       "2                          2  ...                            0   \n",
       "3                          2  ...                            0   \n",
       "4                          2  ...                            0   \n",
       "\n",
       "   exm1633648-0_B_F_1922079779  exm1633532-0_T_R_1922080432  \\\n",
       "0                            2                            0   \n",
       "1                            2                            0   \n",
       "2                            2                            0   \n",
       "3                            2                            0   \n",
       "4                            2                            0   \n",
       "\n",
       "   exm2263054-0_T_R_1975245008  exm1633534-0_T_R_2060129411  \\\n",
       "0                            0                            2   \n",
       "1                            0                            2   \n",
       "2                            2                            2   \n",
       "3                            0                            2   \n",
       "4                            1                            2   \n",
       "\n",
       "   exm1633538-0_B_R_1922080966  exm1633614-0_B_R_1922041120  \\\n",
       "0                            2                            2   \n",
       "1                            2                            2   \n",
       "2                            2                            2   \n",
       "3                            2                            2   \n",
       "4                            2                            2   \n",
       "\n",
       "   exm2273238-0_B_F_1984849072  exm1633590-0_B_F_2060419211  \\\n",
       "0                            2                            2   \n",
       "1                            2                            2   \n",
       "2                            2                            2   \n",
       "3                            2                            2   \n",
       "4                            2                            2   \n",
       "\n",
       "   exm1633583-0_B_R_2060131385  \n",
       "0                            2  \n",
       "1                            2  \n",
       "2                            2  \n",
       "3                            2  \n",
       "4                            2  \n",
       "\n",
       "[5 rows x 7837 columns]"
      ]
     },
     "execution_count": 26,
     "metadata": {},
     "output_type": "execute_result"
    }
   ],
   "source": [
    "df_base.head()"
   ]
  },
  {
   "cell_type": "code",
   "execution_count": 27,
   "metadata": {},
   "outputs": [],
   "source": [
    "df_base.to_csv(\"All_Features\", index=False)"
   ]
  },
  {
   "cell_type": "code",
   "execution_count": 27,
   "metadata": {},
   "outputs": [],
   "source": [
    "df_pheno=pd.read_csv('../Phenotype/donnees_transformees.csv', sep='\\t')\n",
    "df_pheno= df_pheno[[\"ID\", \"Smoking_status\"]]"
   ]
  },
  {
   "cell_type": "code",
   "execution_count": 28,
   "metadata": {},
   "outputs": [],
   "source": [
    "# Jointure des données SNP et phénotype sur la colonne \"ID\"\n",
    "joined_data = df_base.merge(df_pheno, on=\"ID\")"
   ]
  },
  {
   "cell_type": "code",
   "execution_count": 51,
   "metadata": {},
   "outputs": [],
   "source": [
    "scaler = StandardScaler()\n",
    "scaled_features = scaler.fit_transform(joined_data.iloc[:, 1:-1])\n",
    "\n",
    "labels=joined_data.iloc[:, -1]\n",
    "\n",
    "# Diviser les données en ensembles d'entraînement et de test\n",
    "train_features, test_features, train_labels, test_labels = train_test_split(scaled_features, labels, test_size=0.2, random_state=42)"
   ]
  },
  {
   "cell_type": "markdown",
   "metadata": {},
   "source": [
    "# SVM"
   ]
  },
  {
   "cell_type": "code",
   "execution_count": 62,
   "metadata": {},
   "outputs": [
    {
     "name": "stdout",
     "output_type": "stream",
     "text": [
      "SVM fiting is OK\n",
      "Accuracy SVM: 0.5588235294117647\n"
     ]
    }
   ],
   "source": [
    "# Créer et entraîner le modèle SVM\n",
    "model_SVM_linear = svm.SVC(kernel='linear')\n",
    "model_SVM_linear.fit(train_features, train_labels)\n",
    "print (\"SVM fiting is OK\")\n",
    "\n",
    "# Prédire les labels pour l'ensemble de test\n",
    "predictions_SVM = model_SVM_linear.predict(test_features)\n",
    "# Calculer l'accuracy\n",
    "accuracy_SVM = accuracy_score(test_labels, predictions_SVM)\n",
    "print(\"Accuracy SVM:\", accuracy_SVM)"
   ]
  },
  {
   "cell_type": "code",
   "execution_count": 63,
   "metadata": {},
   "outputs": [
    {
     "name": "stdout",
     "output_type": "stream",
     "text": [
      "Precision SVM: 0.37235862579183426\n"
     ]
    },
    {
     "name": "stderr",
     "output_type": "stream",
     "text": [
      "/home/legrand/.local/lib/python3.10/site-packages/sklearn/metrics/_classification.py:1334: UndefinedMetricWarning: Precision is ill-defined and being set to 0.0 in labels with no predicted samples. Use `zero_division` parameter to control this behavior.\n",
      "  _warn_prf(average, modifier, msg_start, len(result))\n"
     ]
    }
   ],
   "source": [
    "# Calculer la précision\n",
    "precision_SVM = precision_score(test_labels, predictions_SVM, average='macro')\n",
    "print(\"Precision SVM:\", precision_SVM)"
   ]
  },
  {
   "cell_type": "code",
   "execution_count": 64,
   "metadata": {},
   "outputs": [
    {
     "name": "stdout",
     "output_type": "stream",
     "text": [
      "Recall SVM: 0.37282079767628895\n"
     ]
    }
   ],
   "source": [
    "# Calculer le rappel\n",
    "recall_SVM = recall_score(test_labels, predictions_SVM, average='macro')\n",
    "print(\"Recall SVM:\", recall_SVM)"
   ]
  },
  {
   "cell_type": "code",
   "execution_count": 65,
   "metadata": {},
   "outputs": [
    {
     "name": "stdout",
     "output_type": "stream",
     "text": [
      "F1-Score SVM: 0.37251687936619443\n"
     ]
    }
   ],
   "source": [
    "# Calculer le F1-score\n",
    "f1_SVM = f1_score(test_labels, predictions_SVM, average='macro')\n",
    "print(\"F1-Score SVM:\", f1_SVM)"
   ]
  },
  {
   "cell_type": "code",
   "execution_count": 31,
   "metadata": {},
   "outputs": [
    {
     "name": "stdout",
     "output_type": "stream",
     "text": [
      "SVM fiting is OK\n",
      "Accuracy SVM: 0.5588235294117647\n"
     ]
    }
   ],
   "source": [
    "# Obtenir les coefficients du modèle SVM\n",
    "coefficients = model_SVM_linear.coef_\n",
    "\n",
    "# Calculer la somme des carrés des coefficients pour normaliser\n",
    "coef_sum_squares = np.sum(coefficients**2, axis=0)\n",
    "norm_coef_sum_squares = coef_sum_squares / np.sum(coef_sum_squares)\n",
    "\n",
    "# Trier les indices des caractéristiques par ordre décroissant de l'importance\n",
    "top_feature_indices = np.argsort(norm_coef_sum_squares)[::-1][:100]\n",
    "\n",
    "# Obtenir les noms des caractéristiques (variants)\n",
    "feature_names = joined_data.columns[1:-1]\n",
    "\n",
    "# Créez un DataFrame avec les noms des caractéristiques et leurs scores d'importance\n",
    "top_feature_df = pd.DataFrame({'Feature': feature_names[top_feature_indices], 'Importance': norm_coef_sum_squares[top_feature_indices]})\n",
    "# Sauvegardez le DataFrame au format CSV\n",
    "top_feature_df.to_csv('SVM_01_best.csv', index=False)"
   ]
  },
  {
   "cell_type": "markdown",
   "metadata": {},
   "source": [
    "## Réentrainer le SVM avec les 100 meilleurs variants"
   ]
  },
  {
   "cell_type": "code",
   "execution_count": 34,
   "metadata": {},
   "outputs": [
    {
     "data": {
      "text/html": [
       "<div>\n",
       "<style scoped>\n",
       "    .dataframe tbody tr th:only-of-type {\n",
       "        vertical-align: middle;\n",
       "    }\n",
       "\n",
       "    .dataframe tbody tr th {\n",
       "        vertical-align: top;\n",
       "    }\n",
       "\n",
       "    .dataframe thead th {\n",
       "        text-align: right;\n",
       "    }\n",
       "</style>\n",
       "<table border=\"1\" class=\"dataframe\">\n",
       "  <thead>\n",
       "    <tr style=\"text-align: right;\">\n",
       "      <th></th>\n",
       "      <th>Feature</th>\n",
       "      <th>Importance</th>\n",
       "    </tr>\n",
       "  </thead>\n",
       "  <tbody>\n",
       "    <tr>\n",
       "      <th>0</th>\n",
       "      <td>exm1560247-0_T_R_1922598804</td>\n",
       "      <td>0.013773</td>\n",
       "    </tr>\n",
       "    <tr>\n",
       "      <th>1</th>\n",
       "      <td>exm762289-0_T_R_1922295448</td>\n",
       "      <td>0.011263</td>\n",
       "    </tr>\n",
       "    <tr>\n",
       "      <th>2</th>\n",
       "      <td>exm809316-0_T_F_1921033016</td>\n",
       "      <td>0.006432</td>\n",
       "    </tr>\n",
       "    <tr>\n",
       "      <th>3</th>\n",
       "      <td>exm838036-0_T_F_1921023190</td>\n",
       "      <td>0.006391</td>\n",
       "    </tr>\n",
       "    <tr>\n",
       "      <th>4</th>\n",
       "      <td>exm1370950-0_T_F_1918766771</td>\n",
       "      <td>0.006186</td>\n",
       "    </tr>\n",
       "  </tbody>\n",
       "</table>\n",
       "</div>"
      ],
      "text/plain": [
       "                       Feature  Importance\n",
       "0  exm1560247-0_T_R_1922598804    0.013773\n",
       "1   exm762289-0_T_R_1922295448    0.011263\n",
       "2   exm809316-0_T_F_1921033016    0.006432\n",
       "3   exm838036-0_T_F_1921023190    0.006391\n",
       "4  exm1370950-0_T_F_1918766771    0.006186"
      ]
     },
     "execution_count": 34,
     "metadata": {},
     "output_type": "execute_result"
    }
   ],
   "source": [
    "top_feature_df.head()"
   ]
  },
  {
   "cell_type": "code",
   "execution_count": 66,
   "metadata": {},
   "outputs": [],
   "source": [
    "joined_data_svm=joined_data[[\"exm1560247-0_T_R_1922598804\", \"exm762289-0_T_R_1922295448\", \"exm809316-0_T_F_1921033016\", \"exm838036-0_T_F_1921023190\", \"exm1370950-0_T_F_1918766771\", \"exm230448-0_B_R_1918905208\", \"exm335908-0_T_F_1922143415\", \"exm2216437-0_T_F_1955482574\", \"exm1583483-0_T_F_1919065807\", \"exm1215234-0_B_F_1921786817\", \"exm1300933-0_T_R_1918608826\", \"exm915238-0_T_R_1918211450\", \"exm537329-0_T_R_1922014986\", \"exm1183159-0_T_F_1922862193\", \"exm1148105-0_T_F_1922903033\", \"exm137355-0_T_F_1921577311\", \"exm1387251-0_T_F_1921585377\", \"exm596447-0_T_R_1921934834\", \"exm907891-0_T_R_1918215344\", \"exm307742-0_T_R_1922161758\", \"exm328825-0_B_R_1922197194\", \"exm1488725-0_B_F_1923223743\", \"exm1607201-0_T_F_1919062283\", \"exm360809-0_T_F_1922153167\", \"exm157334-0_T_F_1921401813\", \"exm1358878-0_T_F_1918793895\", \"exm477849-0_T_F_1921181408\", \"exm154765-0_T_F_1921552151\", \"exm264563-0_B_F_1918949271\", \"exm644591-0_T_R_1918580114\", \"exm1425332-0_B_R_1923295786\", \"exm1009780-0_T_R_1922469242\", \"exm378858-0_T_F_1923119815\", \"exm1117556-0_B_R_1922706214\", \"exm1429481-0_T_R_1923167568\", \"exm401383-0_T_R_1923070096\", \"exm1473327-0_T_F_1923267427\", \"exm1026347-0_T_R_1922513278\", \"exm932899-0_T_R_1918391080\", \"exm725160-0_T_R_1922957894\", \"exm1507939-0_T_R_1923258700\", \"exm908706-0_T_R_1918250194\", \"exm1367773-0_T_R_1918784158\", \"exm143524-0_T_F_1921434821\", \"exm1016248-0_T_R_1922566154\", \"exm1185500-0_T_F_1922836883\", \"exm680702-0_T_F_1922943801\", \"exm645526-0_T_R_1918479748\", \"exm77508-0_T_R_1921386830\", \"exm669537-0_T_R_1918517798\", \"exm2250364-0_T_R_1975240934\", \"exm1604511-0_T_R_1919072590\", \"exm186805-0_T_R_1918907916\", \"exm221955-0_T_R_1918930998\", \"exm1294587-0_T_R_1918705616\", \"exm1145666-0_T_R_1922864088\", \"exm608461-0_B_R_1918532296\", \"exm1266307-0_B_F_1921777863\", \"exm1229331-0_T_F_1921700471\", \"exm1037887-0_T_F_1922461255\", \"exm36170-0_T_F_1921331183\", \"exm358419-0_T_R_1922276638\", \"exm1077479-0_T_R_1921845648\", \"exm492252-0_B_R_1921088419\", \"exm-rs7892855-131_T_F_1990494318\", \"exm526176-0_T_F_1921927423\", \"exm907904-0_T_R_1918324202\", \"exm1146255-0_B_F_1922806949\", \"exm937923-0_T_F_1918263999\", \"exm354182-0_B_F_1922142097\", \"exm423996-0_T_F_1923135695\", \"exm2255749-0_T_R_1975260441\", \"exm1627396-0_T_F_1922072821\", \"exm2271912-0_T_R_1984846530\", \"exm1314134-0_T_R_1918658406\", \"exm759751-0_T_R_1922412944\", \"exm775023-0_T_F_1922316843\", \"exm142670-0_B_R_1921543666\", \"exm2270916-0_T_R_1984854704\", \"exm1176862-0_T_R_1922835868\", \"exm551500-0_B_R_1921955038\", \"exm2259339-0_T_R_1975261195\", \"exm1478955-0_T_R_1923159428\", \"exm1203288-0_T_F_1921715689\", \"exm542864-0_T_F_1921953909\", \"exm1438411-0_T_F_1923296939\", \"exm2260209-0_T_F_1975257098\", \"exm1083292-0_T_F_1922726819\", \"exm542832-0_T_F_1921968003\", \"exm138673-0_T_F_1921363937\", \"exm876786-0_T_R_1918255252\", \"exm1022583-0_T_R_1922450070\", \"exm1658698-0_T_F_1922023229\", \"exm338177-0_T_R_1922282934\", \"exm85500-0_T_R_1921344054\", \"exm1492349-0_T_F_1923214919\", \"exm1246142-0_T_R_1921653680\", \"exm2264592-0_T_F_1984847354\", \"exm1664727-0_T_R_1922097652\", \"exm632258-0_T_R_1918593190\", \"Smoking_status\"]]"
   ]
  },
  {
   "cell_type": "code",
   "execution_count": 67,
   "metadata": {},
   "outputs": [
    {
     "data": {
      "text/html": [
       "<div>\n",
       "<style scoped>\n",
       "    .dataframe tbody tr th:only-of-type {\n",
       "        vertical-align: middle;\n",
       "    }\n",
       "\n",
       "    .dataframe tbody tr th {\n",
       "        vertical-align: top;\n",
       "    }\n",
       "\n",
       "    .dataframe thead th {\n",
       "        text-align: right;\n",
       "    }\n",
       "</style>\n",
       "<table border=\"1\" class=\"dataframe\">\n",
       "  <thead>\n",
       "    <tr style=\"text-align: right;\">\n",
       "      <th></th>\n",
       "      <th>exm1560247-0_T_R_1922598804</th>\n",
       "      <th>exm762289-0_T_R_1922295448</th>\n",
       "      <th>exm809316-0_T_F_1921033016</th>\n",
       "      <th>exm838036-0_T_F_1921023190</th>\n",
       "      <th>exm1370950-0_T_F_1918766771</th>\n",
       "      <th>exm230448-0_B_R_1918905208</th>\n",
       "      <th>exm335908-0_T_F_1922143415</th>\n",
       "      <th>exm2216437-0_T_F_1955482574</th>\n",
       "      <th>exm1583483-0_T_F_1919065807</th>\n",
       "      <th>exm1215234-0_B_F_1921786817</th>\n",
       "      <th>...</th>\n",
       "      <th>exm1022583-0_T_R_1922450070</th>\n",
       "      <th>exm1658698-0_T_F_1922023229</th>\n",
       "      <th>exm338177-0_T_R_1922282934</th>\n",
       "      <th>exm85500-0_T_R_1921344054</th>\n",
       "      <th>exm1492349-0_T_F_1923214919</th>\n",
       "      <th>exm1246142-0_T_R_1921653680</th>\n",
       "      <th>exm2264592-0_T_F_1984847354</th>\n",
       "      <th>exm1664727-0_T_R_1922097652</th>\n",
       "      <th>exm632258-0_T_R_1918593190</th>\n",
       "      <th>Smoking_status</th>\n",
       "    </tr>\n",
       "  </thead>\n",
       "  <tbody>\n",
       "    <tr>\n",
       "      <th>0</th>\n",
       "      <td>2</td>\n",
       "      <td>0</td>\n",
       "      <td>2</td>\n",
       "      <td>2</td>\n",
       "      <td>2</td>\n",
       "      <td>0</td>\n",
       "      <td>0</td>\n",
       "      <td>2</td>\n",
       "      <td>2</td>\n",
       "      <td>0</td>\n",
       "      <td>...</td>\n",
       "      <td>2</td>\n",
       "      <td>2</td>\n",
       "      <td>2</td>\n",
       "      <td>0</td>\n",
       "      <td>2</td>\n",
       "      <td>2</td>\n",
       "      <td>1</td>\n",
       "      <td>2</td>\n",
       "      <td>2</td>\n",
       "      <td>0</td>\n",
       "    </tr>\n",
       "    <tr>\n",
       "      <th>1</th>\n",
       "      <td>2</td>\n",
       "      <td>0</td>\n",
       "      <td>2</td>\n",
       "      <td>2</td>\n",
       "      <td>2</td>\n",
       "      <td>0</td>\n",
       "      <td>0</td>\n",
       "      <td>2</td>\n",
       "      <td>2</td>\n",
       "      <td>0</td>\n",
       "      <td>...</td>\n",
       "      <td>2</td>\n",
       "      <td>2</td>\n",
       "      <td>2</td>\n",
       "      <td>0</td>\n",
       "      <td>2</td>\n",
       "      <td>2</td>\n",
       "      <td>0</td>\n",
       "      <td>2</td>\n",
       "      <td>2</td>\n",
       "      <td>1</td>\n",
       "    </tr>\n",
       "    <tr>\n",
       "      <th>2</th>\n",
       "      <td>2</td>\n",
       "      <td>0</td>\n",
       "      <td>2</td>\n",
       "      <td>2</td>\n",
       "      <td>2</td>\n",
       "      <td>0</td>\n",
       "      <td>0</td>\n",
       "      <td>2</td>\n",
       "      <td>2</td>\n",
       "      <td>0</td>\n",
       "      <td>...</td>\n",
       "      <td>2</td>\n",
       "      <td>2</td>\n",
       "      <td>2</td>\n",
       "      <td>0</td>\n",
       "      <td>2</td>\n",
       "      <td>2</td>\n",
       "      <td>1</td>\n",
       "      <td>2</td>\n",
       "      <td>2</td>\n",
       "      <td>1</td>\n",
       "    </tr>\n",
       "    <tr>\n",
       "      <th>3</th>\n",
       "      <td>2</td>\n",
       "      <td>0</td>\n",
       "      <td>2</td>\n",
       "      <td>2</td>\n",
       "      <td>2</td>\n",
       "      <td>0</td>\n",
       "      <td>0</td>\n",
       "      <td>2</td>\n",
       "      <td>2</td>\n",
       "      <td>0</td>\n",
       "      <td>...</td>\n",
       "      <td>2</td>\n",
       "      <td>2</td>\n",
       "      <td>2</td>\n",
       "      <td>0</td>\n",
       "      <td>2</td>\n",
       "      <td>2</td>\n",
       "      <td>1</td>\n",
       "      <td>2</td>\n",
       "      <td>2</td>\n",
       "      <td>0</td>\n",
       "    </tr>\n",
       "    <tr>\n",
       "      <th>4</th>\n",
       "      <td>2</td>\n",
       "      <td>0</td>\n",
       "      <td>2</td>\n",
       "      <td>2</td>\n",
       "      <td>2</td>\n",
       "      <td>0</td>\n",
       "      <td>0</td>\n",
       "      <td>2</td>\n",
       "      <td>2</td>\n",
       "      <td>0</td>\n",
       "      <td>...</td>\n",
       "      <td>2</td>\n",
       "      <td>2</td>\n",
       "      <td>2</td>\n",
       "      <td>0</td>\n",
       "      <td>2</td>\n",
       "      <td>2</td>\n",
       "      <td>2</td>\n",
       "      <td>2</td>\n",
       "      <td>2</td>\n",
       "      <td>1</td>\n",
       "    </tr>\n",
       "  </tbody>\n",
       "</table>\n",
       "<p>5 rows × 101 columns</p>\n",
       "</div>"
      ],
      "text/plain": [
       "   exm1560247-0_T_R_1922598804  exm762289-0_T_R_1922295448  \\\n",
       "0                            2                           0   \n",
       "1                            2                           0   \n",
       "2                            2                           0   \n",
       "3                            2                           0   \n",
       "4                            2                           0   \n",
       "\n",
       "   exm809316-0_T_F_1921033016  exm838036-0_T_F_1921023190  \\\n",
       "0                           2                           2   \n",
       "1                           2                           2   \n",
       "2                           2                           2   \n",
       "3                           2                           2   \n",
       "4                           2                           2   \n",
       "\n",
       "   exm1370950-0_T_F_1918766771  exm230448-0_B_R_1918905208  \\\n",
       "0                            2                           0   \n",
       "1                            2                           0   \n",
       "2                            2                           0   \n",
       "3                            2                           0   \n",
       "4                            2                           0   \n",
       "\n",
       "   exm335908-0_T_F_1922143415  exm2216437-0_T_F_1955482574  \\\n",
       "0                           0                            2   \n",
       "1                           0                            2   \n",
       "2                           0                            2   \n",
       "3                           0                            2   \n",
       "4                           0                            2   \n",
       "\n",
       "   exm1583483-0_T_F_1919065807  exm1215234-0_B_F_1921786817  ...  \\\n",
       "0                            2                            0  ...   \n",
       "1                            2                            0  ...   \n",
       "2                            2                            0  ...   \n",
       "3                            2                            0  ...   \n",
       "4                            2                            0  ...   \n",
       "\n",
       "   exm1022583-0_T_R_1922450070  exm1658698-0_T_F_1922023229  \\\n",
       "0                            2                            2   \n",
       "1                            2                            2   \n",
       "2                            2                            2   \n",
       "3                            2                            2   \n",
       "4                            2                            2   \n",
       "\n",
       "   exm338177-0_T_R_1922282934  exm85500-0_T_R_1921344054  \\\n",
       "0                           2                          0   \n",
       "1                           2                          0   \n",
       "2                           2                          0   \n",
       "3                           2                          0   \n",
       "4                           2                          0   \n",
       "\n",
       "   exm1492349-0_T_F_1923214919  exm1246142-0_T_R_1921653680  \\\n",
       "0                            2                            2   \n",
       "1                            2                            2   \n",
       "2                            2                            2   \n",
       "3                            2                            2   \n",
       "4                            2                            2   \n",
       "\n",
       "   exm2264592-0_T_F_1984847354  exm1664727-0_T_R_1922097652  \\\n",
       "0                            1                            2   \n",
       "1                            0                            2   \n",
       "2                            1                            2   \n",
       "3                            1                            2   \n",
       "4                            2                            2   \n",
       "\n",
       "   exm632258-0_T_R_1918593190  Smoking_status  \n",
       "0                           2               0  \n",
       "1                           2               1  \n",
       "2                           2               1  \n",
       "3                           2               0  \n",
       "4                           2               1  \n",
       "\n",
       "[5 rows x 101 columns]"
      ]
     },
     "execution_count": 67,
     "metadata": {},
     "output_type": "execute_result"
    }
   ],
   "source": [
    "joined_data_svm.head()"
   ]
  },
  {
   "cell_type": "code",
   "execution_count": 68,
   "metadata": {},
   "outputs": [],
   "source": [
    "scaled_features = joined_data_svm.iloc[:, 0:-1]\n",
    "\n",
    "labels=joined_data_svm.iloc[:, -1]\n",
    "\n",
    "# Diviser les données en ensembles d'entraînement et de test\n",
    "train_features, test_features, train_labels, test_labels = train_test_split(scaled_features, labels, test_size=0.2, random_state=42)"
   ]
  },
  {
   "cell_type": "code",
   "execution_count": 69,
   "metadata": {},
   "outputs": [
    {
     "name": "stdout",
     "output_type": "stream",
     "text": [
      "SVM fiting is OK\n",
      "Accuracy SVM: 0.5147058823529411\n"
     ]
    }
   ],
   "source": [
    "# Créer et entraîner le modèle SVM\n",
    "model_SVM_linear = svm.SVC(kernel='linear')\n",
    "model_SVM_linear.fit(train_features, train_labels)\n",
    "print (\"SVM fiting is OK\")\n",
    "\n",
    "# Prédire les labels pour l'ensemble de test\n",
    "predictions_SVM = model_SVM_linear.predict(test_features)\n",
    "# Calculer l'accuracy\n",
    "accuracy_SVM = accuracy_score(test_labels, predictions_SVM)\n",
    "print(\"Accuracy SVM:\", accuracy_SVM)"
   ]
  },
  {
   "cell_type": "code",
   "execution_count": 70,
   "metadata": {},
   "outputs": [],
   "source": [
    "scaler = StandardScaler()\n",
    "scaled_features = scaler.fit_transform(joined_data_svm.iloc[:, 0:-1])\n",
    "\n",
    "labels=joined_data.iloc[:, -1]\n",
    "\n",
    "# Diviser les données en ensembles d'entraînement et de test\n",
    "train_features, test_features, train_labels, test_labels = train_test_split(scaled_features, labels, test_size=0.2, random_state=42)"
   ]
  },
  {
   "cell_type": "code",
   "execution_count": 71,
   "metadata": {},
   "outputs": [
    {
     "name": "stdout",
     "output_type": "stream",
     "text": [
      "SVM fiting is OK\n",
      "Accuracy SVM: 0.5088235294117647\n"
     ]
    }
   ],
   "source": [
    "# Créer et entraîner le modèle SVM\n",
    "model_SVM_linear = svm.SVC(kernel='linear')\n",
    "model_SVM_linear.fit(train_features, train_labels)\n",
    "print (\"SVM fiting is OK\")\n",
    "\n",
    "# Prédire les labels pour l'ensemble de test\n",
    "predictions_SVM = model_SVM_linear.predict(test_features)\n",
    "# Calculer l'accuracy\n",
    "accuracy_SVM = accuracy_score(test_labels, predictions_SVM)\n",
    "print(\"Accuracy SVM:\", accuracy_SVM)"
   ]
  },
  {
   "cell_type": "markdown",
   "metadata": {},
   "source": [
    "# Logistic Regression"
   ]
  },
  {
   "cell_type": "code",
   "execution_count": 75,
   "metadata": {},
   "outputs": [
    {
     "name": "stdout",
     "output_type": "stream",
     "text": [
      "Accuracy of Logistic Regression: 0.5632352941176471\n"
     ]
    },
    {
     "data": {
      "text/plain": [
       "\"# Obtenir les coefficients du modèle de régression logistique\\ncoefficients = model_LR.coef_\\n\\n# Calculer la somme des carrés des coefficients pour normaliser\\ncoef_sum_squares = np.sum(coefficients**2, axis=0)\\nnorm_coef_sum_squares = coef_sum_squares / np.sum(coef_sum_squares)\\n\\n# Trier les indices des caractéristiques par ordre décroissant de l'importance\\ntop_feature_indices = np.argsort(norm_coef_sum_squares)[::-1][:100]\\n\\n# Obtenir les noms des caractéristiques (variants)\\nfeature_names = joined_data.columns[1:-1]\\n\\n# Créez un DataFrame avec les noms des caractéristiques et leurs scores d'importance\\ntop_feature_df = pd.DataFrame({'Feature': feature_names[top_feature_indices], 'Importance': norm_coef_sum_squares[top_feature_indices]})\\n\\n# Sauvegardez le DataFrame au format CSV\\ntop_feature_df.to_csv('LR_01_best.csv', index=False)\""
      ]
     },
     "execution_count": 75,
     "metadata": {},
     "output_type": "execute_result"
    }
   ],
   "source": [
    "model_LR=LogisticRegression(max_iter=10000)\n",
    "model_LR.fit(train_features, train_labels)\n",
    "\n",
    "# Prédire les labels pour l'ensemble de test\n",
    "predictions = model_LR.predict(test_features)\n",
    "# Calculer l'accuracy\n",
    "accuracy = accuracy_score(test_labels, predictions)\n",
    "print(\"Accuracy of Logistic Regression:\", accuracy)\n",
    "\n",
    "# Obtenir les coefficients du modèle de régression logistique\n",
    "coefficients = model_LR.coef_\n",
    "\n",
    "# Calculer la somme des carrés des coefficients pour normaliser\n",
    "coef_sum_squares = np.sum(coefficients**2, axis=0)\n",
    "norm_coef_sum_squares = coef_sum_squares / np.sum(coef_sum_squares)\n",
    "\n",
    "# Trier les indices des caractéristiques par ordre décroissant de l'importance\n",
    "top_feature_indices = np.argsort(norm_coef_sum_squares)[::-1][:100]\n",
    "\n",
    "# Obtenir les noms des caractéristiques (variants)\n",
    "feature_names = joined_data.columns[1:-1]\n",
    "\n",
    "# Créez un DataFrame avec les noms des caractéristiques et leurs scores d'importance\n",
    "top_feature_df = pd.DataFrame({'Feature': feature_names[top_feature_indices], 'Importance': norm_coef_sum_squares[top_feature_indices]})\n",
    "\n",
    "# Sauvegardez le DataFrame au format CSV\n",
    "top_feature_df.to_csv('LR_01_best.csv', index=False)"
   ]
  },
  {
   "cell_type": "code",
   "execution_count": 76,
   "metadata": {},
   "outputs": [
    {
     "name": "stdout",
     "output_type": "stream",
     "text": [
      "Precision SVM: 0.3753266742325141\n"
     ]
    },
    {
     "name": "stderr",
     "output_type": "stream",
     "text": [
      "/home/legrand/.local/lib/python3.10/site-packages/sklearn/metrics/_classification.py:1334: UndefinedMetricWarning: Precision is ill-defined and being set to 0.0 in labels with no predicted samples. Use `zero_division` parameter to control this behavior.\n",
      "  _warn_prf(average, modifier, msg_start, len(result))\n"
     ]
    }
   ],
   "source": [
    "# Calculer la précision\n",
    "precision_LR = precision_score(test_labels, predictions, average='macro')\n",
    "print(\"Precision SVM:\", precision_LR)"
   ]
  },
  {
   "cell_type": "code",
   "execution_count": 77,
   "metadata": {},
   "outputs": [
    {
     "name": "stdout",
     "output_type": "stream",
     "text": [
      "Recall SVM: 0.375823800679292\n"
     ]
    }
   ],
   "source": [
    "# Calculer le rappel\n",
    "recall_LR = recall_score(test_labels, predictions, average='macro')\n",
    "print(\"Recall SVM:\", recall_LR)"
   ]
  },
  {
   "cell_type": "code",
   "execution_count": 78,
   "metadata": {},
   "outputs": [
    {
     "name": "stdout",
     "output_type": "stream",
     "text": [
      "F1-Score SVM: 0.37554081588416355\n"
     ]
    }
   ],
   "source": [
    "# Calculer le F1-score\n",
    "f1_LR = f1_score(test_labels, predictions, average='macro')\n",
    "print(\"F1-Score SVM:\", f1_LR)"
   ]
  },
  {
   "cell_type": "markdown",
   "metadata": {},
   "source": [
    "## Réentrainer Logistic Regression avec les 100 meilleurs FIR"
   ]
  },
  {
   "cell_type": "code",
   "execution_count": 83,
   "metadata": {},
   "outputs": [],
   "source": [
    "joined_data_LR = joined_data[[\"exm1560247-0_T_R_1922598804\", \"exm762289-0_T_R_1922295448\", \"exm1370950-0_T_F_1918766771\", \"exm838036-0_T_F_1921023190\", \"exm230448-0_B_R_1918905208\", \"exm1300933-0_T_R_1918608826\", \"exm809316-0_T_F_1921033016\", \"exm1583483-0_T_F_1919065807\", \"exm596447-0_T_R_1921934834\", \"exm915238-0_T_R_1918211450\", \"exm537329-0_T_R_1922014986\", \"exm908706-0_T_R_1918250194\", \"exm1488725-0_B_F_1923223743\", \"exm1183159-0_T_F_1922862193\", \"exm1607201-0_T_F_1919062283\", \"exm1215234-0_B_F_1921786817\", \"exm154765-0_T_F_1921552151\", \"exm477849-0_T_F_1921181408\", \"exm157334-0_T_F_1921401813\", \"exm1387251-0_T_F_1921585377\", \"exm360809-0_T_F_1922153167\", \"exm307742-0_T_R_1922161758\", \"exm644591-0_T_R_1918580114\", \"exm632258-0_T_R_1918593190\", \"exm137355-0_T_F_1921577311\", \"exm2250364-0_T_R_1975240934\", \"exm1009780-0_T_R_1922469242\", \"exm354182-0_B_F_1922142097\", \"exm1358878-0_T_F_1918793895\", \"exm2216437-0_T_F_1955482574\", \"exm221955-0_T_R_1918930998\", \"exm1176862-0_T_R_1922835868\", \"exm1473327-0_T_F_1923267427\", \"exm264563-0_B_F_1918949271\", \"exm894210-0_T_R_1918290797\", \"exm759751-0_T_R_1922412944\", \"exm492252-0_B_R_1921088419\", \"exm1314134-0_T_R_1918658406\", \"exm542832-0_T_F_1921968003\", \"exm907904-0_T_R_1918324202\", \"exm2271912-0_T_R_1984846530\", \"exm1077479-0_T_R_1921845648\", \"exm1203288-0_T_F_1921715689\", \"exm2270916-0_T_R_1984854704\", \"exm1367773-0_T_R_1918784158\", \"exm1425332-0_B_R_1923295786\", \"exm1294587-0_T_R_1918705616\", \"exm423996-0_T_F_1923135695\", \"exm1146255-0_B_F_1922806949\", \"exm1117556-0_B_R_1922706214\", \"exm720192-0_T_R_1922967570\", \"exm738455-0_T_R_1922412956\", \"exm1185500-0_T_F_1922836883\", \"exm2260209-0_T_F_1975257098\", \"exm-rs3136202-131_T_F_1990491639\", \"exm876786-0_T_R_1918255252\", \"exm378858-0_T_F_1923119815\", \"exm526176-0_T_F_1921927423\", \"exm937923-0_T_F_1918263999\", \"exm328825-0_B_R_1922197194\", \"exm645526-0_T_R_1918479748\", \"exm1438411-0_T_F_1923296939\", \"exm1246142-0_T_R_1921653680\", \"exm77508-0_T_R_1921386830\", \"exm335908-0_T_F_1922143415\", \"exm542864-0_T_F_1921953909\", \"exm1026347-0_T_R_1922513278\", \"exm143524-0_T_F_1921434821\", \"exm2263174-0_T_F_1975245093\", \"exm-rs7892855-131_T_F_1990494318\", \"exm1148105-0_T_F_1922903033\", \"exm842594-0_T_R_1921056391\", \"exm2272807-0_T_R_1984856684\", \"exm2256803-0_T_R_1975248357\", \"exm1262488-0_T_R_2060131112\", \"exm1627396-0_T_F_1922072821\", \"exm1664727-0_T_R_1922097652\", \"exm-rs3810947-131_T_F_1990491911\", \"exm1492349-0_T_F_1923214919\", \"exm2265719-0_T_F_1984856295\", \"exm2232887-0_T_F_1960094759\", \"exm932899-0_T_R_1918391080\", \"exm36170-0_T_F_1921331183\", \"exm85500-0_T_R_1921344054\", \"exm2269235-0_T_R_1984842922\", \"exm401383-0_T_R_1923070096\", \"exm1037887-0_T_F_1922461255\", \"exm-rs1385351-131_T_R_1990488611\", \"exm193576-0_T_F_1919021893\", \"exm683748-0_T_F_1922975213\", \"exm1022583-0_T_R_1922450070\", \"exm-rs11957313-131_T_F_1990487864\", \"exm-rs16982520-131_T_F_1990489099\", \"exm1509178-0_T_R_1923160190\", \"exm757715-0_T_R_1922303314\", \"exm2272411-0_T_R_1984847333\", \"exm1507510-0_T_R_1920924133\", \"exm1604511-0_T_R_1919072590\", \"exm4494-0_T_R_1919140540\", \"Smoking_status\"]]"
   ]
  },
  {
   "cell_type": "code",
   "execution_count": 84,
   "metadata": {},
   "outputs": [
    {
     "data": {
      "text/html": [
       "<div>\n",
       "<style scoped>\n",
       "    .dataframe tbody tr th:only-of-type {\n",
       "        vertical-align: middle;\n",
       "    }\n",
       "\n",
       "    .dataframe tbody tr th {\n",
       "        vertical-align: top;\n",
       "    }\n",
       "\n",
       "    .dataframe thead th {\n",
       "        text-align: right;\n",
       "    }\n",
       "</style>\n",
       "<table border=\"1\" class=\"dataframe\">\n",
       "  <thead>\n",
       "    <tr style=\"text-align: right;\">\n",
       "      <th></th>\n",
       "      <th>exm1560247-0_T_R_1922598804</th>\n",
       "      <th>exm762289-0_T_R_1922295448</th>\n",
       "      <th>exm1370950-0_T_F_1918766771</th>\n",
       "      <th>exm838036-0_T_F_1921023190</th>\n",
       "      <th>exm230448-0_B_R_1918905208</th>\n",
       "      <th>exm1300933-0_T_R_1918608826</th>\n",
       "      <th>exm809316-0_T_F_1921033016</th>\n",
       "      <th>exm1583483-0_T_F_1919065807</th>\n",
       "      <th>exm596447-0_T_R_1921934834</th>\n",
       "      <th>exm915238-0_T_R_1918211450</th>\n",
       "      <th>...</th>\n",
       "      <th>exm1022583-0_T_R_1922450070</th>\n",
       "      <th>exm-rs11957313-131_T_F_1990487864</th>\n",
       "      <th>exm-rs16982520-131_T_F_1990489099</th>\n",
       "      <th>exm1509178-0_T_R_1923160190</th>\n",
       "      <th>exm757715-0_T_R_1922303314</th>\n",
       "      <th>exm2272411-0_T_R_1984847333</th>\n",
       "      <th>exm1507510-0_T_R_1920924133</th>\n",
       "      <th>exm1604511-0_T_R_1919072590</th>\n",
       "      <th>exm4494-0_T_R_1919140540</th>\n",
       "      <th>Smoking_status</th>\n",
       "    </tr>\n",
       "  </thead>\n",
       "  <tbody>\n",
       "    <tr>\n",
       "      <th>0</th>\n",
       "      <td>2</td>\n",
       "      <td>0</td>\n",
       "      <td>2</td>\n",
       "      <td>2</td>\n",
       "      <td>0</td>\n",
       "      <td>2</td>\n",
       "      <td>2</td>\n",
       "      <td>2</td>\n",
       "      <td>2</td>\n",
       "      <td>2</td>\n",
       "      <td>...</td>\n",
       "      <td>2</td>\n",
       "      <td>2</td>\n",
       "      <td>0</td>\n",
       "      <td>1</td>\n",
       "      <td>2</td>\n",
       "      <td>2</td>\n",
       "      <td>2</td>\n",
       "      <td>2</td>\n",
       "      <td>2</td>\n",
       "      <td>0</td>\n",
       "    </tr>\n",
       "    <tr>\n",
       "      <th>1</th>\n",
       "      <td>2</td>\n",
       "      <td>0</td>\n",
       "      <td>2</td>\n",
       "      <td>2</td>\n",
       "      <td>0</td>\n",
       "      <td>2</td>\n",
       "      <td>2</td>\n",
       "      <td>2</td>\n",
       "      <td>2</td>\n",
       "      <td>2</td>\n",
       "      <td>...</td>\n",
       "      <td>2</td>\n",
       "      <td>2</td>\n",
       "      <td>0</td>\n",
       "      <td>2</td>\n",
       "      <td>2</td>\n",
       "      <td>1</td>\n",
       "      <td>2</td>\n",
       "      <td>2</td>\n",
       "      <td>2</td>\n",
       "      <td>1</td>\n",
       "    </tr>\n",
       "    <tr>\n",
       "      <th>2</th>\n",
       "      <td>2</td>\n",
       "      <td>0</td>\n",
       "      <td>2</td>\n",
       "      <td>2</td>\n",
       "      <td>0</td>\n",
       "      <td>2</td>\n",
       "      <td>2</td>\n",
       "      <td>2</td>\n",
       "      <td>2</td>\n",
       "      <td>2</td>\n",
       "      <td>...</td>\n",
       "      <td>2</td>\n",
       "      <td>2</td>\n",
       "      <td>0</td>\n",
       "      <td>2</td>\n",
       "      <td>2</td>\n",
       "      <td>2</td>\n",
       "      <td>2</td>\n",
       "      <td>2</td>\n",
       "      <td>2</td>\n",
       "      <td>1</td>\n",
       "    </tr>\n",
       "    <tr>\n",
       "      <th>3</th>\n",
       "      <td>2</td>\n",
       "      <td>0</td>\n",
       "      <td>2</td>\n",
       "      <td>2</td>\n",
       "      <td>0</td>\n",
       "      <td>2</td>\n",
       "      <td>2</td>\n",
       "      <td>2</td>\n",
       "      <td>2</td>\n",
       "      <td>2</td>\n",
       "      <td>...</td>\n",
       "      <td>2</td>\n",
       "      <td>2</td>\n",
       "      <td>0</td>\n",
       "      <td>2</td>\n",
       "      <td>2</td>\n",
       "      <td>1</td>\n",
       "      <td>2</td>\n",
       "      <td>2</td>\n",
       "      <td>2</td>\n",
       "      <td>0</td>\n",
       "    </tr>\n",
       "    <tr>\n",
       "      <th>4</th>\n",
       "      <td>2</td>\n",
       "      <td>0</td>\n",
       "      <td>2</td>\n",
       "      <td>2</td>\n",
       "      <td>0</td>\n",
       "      <td>2</td>\n",
       "      <td>2</td>\n",
       "      <td>2</td>\n",
       "      <td>2</td>\n",
       "      <td>2</td>\n",
       "      <td>...</td>\n",
       "      <td>2</td>\n",
       "      <td>1</td>\n",
       "      <td>0</td>\n",
       "      <td>2</td>\n",
       "      <td>1</td>\n",
       "      <td>2</td>\n",
       "      <td>2</td>\n",
       "      <td>2</td>\n",
       "      <td>2</td>\n",
       "      <td>1</td>\n",
       "    </tr>\n",
       "  </tbody>\n",
       "</table>\n",
       "<p>5 rows × 100 columns</p>\n",
       "</div>"
      ],
      "text/plain": [
       "   exm1560247-0_T_R_1922598804  exm762289-0_T_R_1922295448  \\\n",
       "0                            2                           0   \n",
       "1                            2                           0   \n",
       "2                            2                           0   \n",
       "3                            2                           0   \n",
       "4                            2                           0   \n",
       "\n",
       "   exm1370950-0_T_F_1918766771  exm838036-0_T_F_1921023190  \\\n",
       "0                            2                           2   \n",
       "1                            2                           2   \n",
       "2                            2                           2   \n",
       "3                            2                           2   \n",
       "4                            2                           2   \n",
       "\n",
       "   exm230448-0_B_R_1918905208  exm1300933-0_T_R_1918608826  \\\n",
       "0                           0                            2   \n",
       "1                           0                            2   \n",
       "2                           0                            2   \n",
       "3                           0                            2   \n",
       "4                           0                            2   \n",
       "\n",
       "   exm809316-0_T_F_1921033016  exm1583483-0_T_F_1919065807  \\\n",
       "0                           2                            2   \n",
       "1                           2                            2   \n",
       "2                           2                            2   \n",
       "3                           2                            2   \n",
       "4                           2                            2   \n",
       "\n",
       "   exm596447-0_T_R_1921934834  exm915238-0_T_R_1918211450  ...  \\\n",
       "0                           2                           2  ...   \n",
       "1                           2                           2  ...   \n",
       "2                           2                           2  ...   \n",
       "3                           2                           2  ...   \n",
       "4                           2                           2  ...   \n",
       "\n",
       "   exm1022583-0_T_R_1922450070  exm-rs11957313-131_T_F_1990487864  \\\n",
       "0                            2                                  2   \n",
       "1                            2                                  2   \n",
       "2                            2                                  2   \n",
       "3                            2                                  2   \n",
       "4                            2                                  1   \n",
       "\n",
       "   exm-rs16982520-131_T_F_1990489099  exm1509178-0_T_R_1923160190  \\\n",
       "0                                  0                            1   \n",
       "1                                  0                            2   \n",
       "2                                  0                            2   \n",
       "3                                  0                            2   \n",
       "4                                  0                            2   \n",
       "\n",
       "   exm757715-0_T_R_1922303314  exm2272411-0_T_R_1984847333  \\\n",
       "0                           2                            2   \n",
       "1                           2                            1   \n",
       "2                           2                            2   \n",
       "3                           2                            1   \n",
       "4                           1                            2   \n",
       "\n",
       "   exm1507510-0_T_R_1920924133  exm1604511-0_T_R_1919072590  \\\n",
       "0                            2                            2   \n",
       "1                            2                            2   \n",
       "2                            2                            2   \n",
       "3                            2                            2   \n",
       "4                            2                            2   \n",
       "\n",
       "   exm4494-0_T_R_1919140540  Smoking_status  \n",
       "0                         2               0  \n",
       "1                         2               1  \n",
       "2                         2               1  \n",
       "3                         2               0  \n",
       "4                         2               1  \n",
       "\n",
       "[5 rows x 100 columns]"
      ]
     },
     "execution_count": 84,
     "metadata": {},
     "output_type": "execute_result"
    }
   ],
   "source": [
    "joined_data_LR.head()"
   ]
  },
  {
   "cell_type": "code",
   "execution_count": 85,
   "metadata": {},
   "outputs": [],
   "source": [
    "scaler = StandardScaler()\n",
    "scaled_features = scaler.fit_transform(joined_data_LR.iloc[:, 0:-1])\n",
    "\n",
    "labels=joined_data_LR.iloc[:, -1]\n",
    "\n",
    "# Diviser les données en ensembles d'entraînement et de test\n",
    "train_features, test_features, train_labels, test_labels = train_test_split(scaled_features, labels, test_size=0.2, random_state=42)"
   ]
  },
  {
   "cell_type": "code",
   "execution_count": 86,
   "metadata": {},
   "outputs": [
    {
     "name": "stdout",
     "output_type": "stream",
     "text": [
      "Accuracy of Logistic Regression: 0.49264705882352944\n"
     ]
    }
   ],
   "source": [
    "model_LR=LogisticRegression(max_iter=10000)\n",
    "model_LR.fit(train_features, train_labels)\n",
    "\n",
    "# Prédire les labels pour l'ensemble de test\n",
    "predictions = model_LR.predict(test_features)\n",
    "# Calculer l'accuracy\n",
    "accuracy = accuracy_score(test_labels, predictions)\n",
    "print(\"Accuracy of Logistic Regression:\", accuracy)"
   ]
  },
  {
   "cell_type": "code",
   "execution_count": 87,
   "metadata": {},
   "outputs": [
    {
     "name": "stdout",
     "output_type": "stream",
     "text": [
      "Precision SVM: 0.328235725398846\n"
     ]
    },
    {
     "name": "stderr",
     "output_type": "stream",
     "text": [
      "/home/legrand/.local/lib/python3.10/site-packages/sklearn/metrics/_classification.py:1334: UndefinedMetricWarning: Precision is ill-defined and being set to 0.0 in labels with no predicted samples. Use `zero_division` parameter to control this behavior.\n",
      "  _warn_prf(average, modifier, msg_start, len(result))\n"
     ]
    }
   ],
   "source": [
    "# Calculer la précision\n",
    "precision_LR = precision_score(test_labels, predictions, average='macro')\n",
    "print(\"Precision SVM:\", precision_LR)"
   ]
  },
  {
   "cell_type": "code",
   "execution_count": 88,
   "metadata": {},
   "outputs": [
    {
     "name": "stdout",
     "output_type": "stream",
     "text": [
      "Recall SVM: 0.32871599923623046\n"
     ]
    }
   ],
   "source": [
    "# Calculer le rappel\n",
    "recall_LR = recall_score(test_labels, predictions, average='macro')\n",
    "print(\"Recall SVM:\", recall_LR)"
   ]
  },
  {
   "cell_type": "code",
   "execution_count": 89,
   "metadata": {},
   "outputs": [
    {
     "name": "stdout",
     "output_type": "stream",
     "text": [
      "F1-Score SVM: 0.32846135285593125\n"
     ]
    }
   ],
   "source": [
    "# Calculer le F1-score\n",
    "f1_LR = f1_score(test_labels, predictions, average='macro')\n",
    "print(\"F1-Score SVM:\", f1_LR)"
   ]
  },
  {
   "cell_type": "markdown",
   "metadata": {},
   "source": [
    "# Decision Tree Classifier"
   ]
  },
  {
   "cell_type": "code",
   "execution_count": 90,
   "metadata": {},
   "outputs": [],
   "source": [
    "scaler = StandardScaler()\n",
    "scaled_features = scaler.fit_transform(joined_data.iloc[:, 1:-1])\n",
    "\n",
    "labels=joined_data.iloc[:, -1]\n",
    "\n",
    "# Diviser les données en ensembles d'entraînement et de test\n",
    "train_features, test_features, train_labels, test_labels = train_test_split(scaled_features, labels, test_size=0.2, random_state=42)"
   ]
  },
  {
   "cell_type": "code",
   "execution_count": 91,
   "metadata": {},
   "outputs": [
    {
     "data": {
      "text/html": [
       "<style>#sk-container-id-1 {color: black;background-color: white;}#sk-container-id-1 pre{padding: 0;}#sk-container-id-1 div.sk-toggleable {background-color: white;}#sk-container-id-1 label.sk-toggleable__label {cursor: pointer;display: block;width: 100%;margin-bottom: 0;padding: 0.3em;box-sizing: border-box;text-align: center;}#sk-container-id-1 label.sk-toggleable__label-arrow:before {content: \"▸\";float: left;margin-right: 0.25em;color: #696969;}#sk-container-id-1 label.sk-toggleable__label-arrow:hover:before {color: black;}#sk-container-id-1 div.sk-estimator:hover label.sk-toggleable__label-arrow:before {color: black;}#sk-container-id-1 div.sk-toggleable__content {max-height: 0;max-width: 0;overflow: hidden;text-align: left;background-color: #f0f8ff;}#sk-container-id-1 div.sk-toggleable__content pre {margin: 0.2em;color: black;border-radius: 0.25em;background-color: #f0f8ff;}#sk-container-id-1 input.sk-toggleable__control:checked~div.sk-toggleable__content {max-height: 200px;max-width: 100%;overflow: auto;}#sk-container-id-1 input.sk-toggleable__control:checked~label.sk-toggleable__label-arrow:before {content: \"▾\";}#sk-container-id-1 div.sk-estimator input.sk-toggleable__control:checked~label.sk-toggleable__label {background-color: #d4ebff;}#sk-container-id-1 div.sk-label input.sk-toggleable__control:checked~label.sk-toggleable__label {background-color: #d4ebff;}#sk-container-id-1 input.sk-hidden--visually {border: 0;clip: rect(1px 1px 1px 1px);clip: rect(1px, 1px, 1px, 1px);height: 1px;margin: -1px;overflow: hidden;padding: 0;position: absolute;width: 1px;}#sk-container-id-1 div.sk-estimator {font-family: monospace;background-color: #f0f8ff;border: 1px dotted black;border-radius: 0.25em;box-sizing: border-box;margin-bottom: 0.5em;}#sk-container-id-1 div.sk-estimator:hover {background-color: #d4ebff;}#sk-container-id-1 div.sk-parallel-item::after {content: \"\";width: 100%;border-bottom: 1px solid gray;flex-grow: 1;}#sk-container-id-1 div.sk-label:hover label.sk-toggleable__label {background-color: #d4ebff;}#sk-container-id-1 div.sk-serial::before {content: \"\";position: absolute;border-left: 1px solid gray;box-sizing: border-box;top: 0;bottom: 0;left: 50%;z-index: 0;}#sk-container-id-1 div.sk-serial {display: flex;flex-direction: column;align-items: center;background-color: white;padding-right: 0.2em;padding-left: 0.2em;position: relative;}#sk-container-id-1 div.sk-item {position: relative;z-index: 1;}#sk-container-id-1 div.sk-parallel {display: flex;align-items: stretch;justify-content: center;background-color: white;position: relative;}#sk-container-id-1 div.sk-item::before, #sk-container-id-1 div.sk-parallel-item::before {content: \"\";position: absolute;border-left: 1px solid gray;box-sizing: border-box;top: 0;bottom: 0;left: 50%;z-index: -1;}#sk-container-id-1 div.sk-parallel-item {display: flex;flex-direction: column;z-index: 1;position: relative;background-color: white;}#sk-container-id-1 div.sk-parallel-item:first-child::after {align-self: flex-end;width: 50%;}#sk-container-id-1 div.sk-parallel-item:last-child::after {align-self: flex-start;width: 50%;}#sk-container-id-1 div.sk-parallel-item:only-child::after {width: 0;}#sk-container-id-1 div.sk-dashed-wrapped {border: 1px dashed gray;margin: 0 0.4em 0.5em 0.4em;box-sizing: border-box;padding-bottom: 0.4em;background-color: white;}#sk-container-id-1 div.sk-label label {font-family: monospace;font-weight: bold;display: inline-block;line-height: 1.2em;}#sk-container-id-1 div.sk-label-container {text-align: center;}#sk-container-id-1 div.sk-container {/* jupyter's `normalize.less` sets `[hidden] { display: none; }` but bootstrap.min.css set `[hidden] { display: none !important; }` so we also need the `!important` here to be able to override the default hidden behavior on the sphinx rendered scikit-learn.org. See: https://github.com/scikit-learn/scikit-learn/issues/21755 */display: inline-block !important;position: relative;}#sk-container-id-1 div.sk-text-repr-fallback {display: none;}</style><div id=\"sk-container-id-1\" class=\"sk-top-container\"><div class=\"sk-text-repr-fallback\"><pre>DecisionTreeClassifier()</pre><b>In a Jupyter environment, please rerun this cell to show the HTML representation or trust the notebook. <br />On GitHub, the HTML representation is unable to render, please try loading this page with nbviewer.org.</b></div><div class=\"sk-container\" hidden><div class=\"sk-item\"><div class=\"sk-estimator sk-toggleable\"><input class=\"sk-toggleable__control sk-hidden--visually\" id=\"sk-estimator-id-1\" type=\"checkbox\" checked><label for=\"sk-estimator-id-1\" class=\"sk-toggleable__label sk-toggleable__label-arrow\">DecisionTreeClassifier</label><div class=\"sk-toggleable__content\"><pre>DecisionTreeClassifier()</pre></div></div></div></div></div>"
      ],
      "text/plain": [
       "DecisionTreeClassifier()"
      ]
     },
     "execution_count": 91,
     "metadata": {},
     "output_type": "execute_result"
    }
   ],
   "source": [
    "# Créer et entraîner le modèle DecisionTreeClassifier\n",
    "model = DecisionTreeClassifier()\n",
    "model.fit(train_features, train_labels)"
   ]
  },
  {
   "cell_type": "code",
   "execution_count": 92,
   "metadata": {},
   "outputs": [
    {
     "name": "stdout",
     "output_type": "stream",
     "text": [
      "Exactitude du modèle : 52.65%\n"
     ]
    }
   ],
   "source": [
    "# Faire des prédictions sur les données de test\n",
    "predictions = model.predict(test_features)\n",
    "\n",
    "# Calculer l'exactitude des prédictions\n",
    "accuracy = accuracy_score(test_labels, predictions)\n",
    "print(\"Exactitude du modèle : {:.2f}%\".format(accuracy * 100))"
   ]
  },
  {
   "cell_type": "code",
   "execution_count": 61,
   "metadata": {},
   "outputs": [
    {
     "name": "stdout",
     "output_type": "stream",
     "text": [
      "Precision SVM: 0.3530908430043877\n"
     ]
    },
    {
     "name": "stderr",
     "output_type": "stream",
     "text": [
      "/home/legrand/.local/lib/python3.10/site-packages/sklearn/metrics/_classification.py:1334: UndefinedMetricWarning: Precision is ill-defined and being set to 0.0 in labels with no predicted samples. Use `zero_division` parameter to control this behavior.\n",
      "  _warn_prf(average, modifier, msg_start, len(result))\n"
     ]
    }
   ],
   "source": [
    "# Calculer la précision\n",
    "precision_DT = precision_score(test_labels, predictions, average='macro')\n",
    "print(\"Precision SVM:\", precision_DT)"
   ]
  },
  {
   "cell_type": "code",
   "execution_count": 62,
   "metadata": {},
   "outputs": [
    {
     "name": "stdout",
     "output_type": "stream",
     "text": [
      "Recall SVM: 0.35359058480445765\n"
     ]
    }
   ],
   "source": [
    "# Calculer le rappel\n",
    "recall_DT = recall_score(test_labels, predictions, average='macro')\n",
    "print(\"Recall SVM:\", recall_DT)"
   ]
  },
  {
   "cell_type": "code",
   "execution_count": 63,
   "metadata": {},
   "outputs": [
    {
     "name": "stdout",
     "output_type": "stream",
     "text": [
      "F1-Score SVM: 0.35320107424413055\n"
     ]
    }
   ],
   "source": [
    "# Calculer le F1-score\n",
    "f1_DT = f1_score(test_labels, predictions, average='macro')\n",
    "print(\"F1-Score SVM:\", f1_DT)"
   ]
  },
  {
   "cell_type": "code",
   "execution_count": 64,
   "metadata": {},
   "outputs": [],
   "source": [
    "# Obtenir l'importance des caractéristiques du modèle Decision Tree\n",
    "feature_importances = model.feature_importances_\n",
    "\n",
    "# Trier les indices des caractéristiques par ordre décroissant de l'importance\n",
    "top_feature_indices = np.argsort(feature_importances)[::-1][:100]\n",
    "\n",
    "# Obtenir les noms des caractéristiques (variants)\n",
    "feature_names = joined_data.columns[1:-1]\n",
    "\n",
    "# Créez un DataFrame avec les noms des caractéristiques et leurs scores d'importance\n",
    "top_feature_df = pd.DataFrame({'Feature': feature_names[top_feature_indices], 'Importance': feature_importances[top_feature_indices]})\n",
    "\n",
    "# Sauvegardez le DataFrame au format CSV\n",
    "top_feature_df.to_csv('DTC_01_best.csv', index=False)"
   ]
  },
  {
   "cell_type": "markdown",
   "metadata": {},
   "source": [
    "## Réentrainer le DTC avec les 10 meilleurs variants"
   ]
  },
  {
   "cell_type": "code",
   "execution_count": 29,
   "metadata": {},
   "outputs": [],
   "source": [
    "joined_data_DT = joined_data[[\"exm908706-0_T_R_1918250194\", \"exm1626263-0_T_R_1922025424\", \"exm1492113-0_T_R_1923149748\", \"exm-rs16965350-131_T_R_2060141737\", \"exm2269532-0_T_R_1984850857\", \"exm-rs9592783-131_T_F_1990495019\", \"exm-rs12986413-131_T_F_2060139046\", \"exm-rs9313625-131_T_F_1990494792\", \"exm2266247-0_T_F_1984847784\", \"exm338177-0_T_R_1922282934\", \"exm2272408-0_T_R_1984847421\", \"exm-rs3810947-131_T_F_1990491911\", \"exm-rs237655-131_T_F_1990490310\", \"exm2261297-0_T_R_1975242056\", \"exm1430638-0_T_R_1920898413\", \"exm2251115-0_T_F_1975262498\", \"exm2271837-0_T_R_1984852732\", \"exm764831-0_T_R_1922420162\", \"exm2257028-0_T_F_1975249462\", \"exm-rs10223421-131_T_R_1990486895\", \"exm972374-0_B_R_1922516864\", \"exm1613605-0_T_F_1919057095\", \"exm371020-0_T_R_1922249318\", \"exm1623457-0_T_R_1919111400\", \"exm-rs1601875-131_T_R_1990488897\", \"exm-rs2102294-131_T_F_1990489853\", \"exm2265723-0_T_F_1984856411\", \"exm2269107-0_T_R_1984842858\", \"exm1102004-0_T_R_1922683206\", \"exm2263917-0_T_F_1984842769\", \"exm2265376-0_T_F_1984842805\", \"exm-rs1558744-131_T_F_1990488847\", \"exm2269239-0_T_R_1984843208\", \"exm1504957-0_T_R_1920936827\", \"exm402538-0_T_R_1923061976\", \"exm-rs2571402-131_T_R_1990490693\", \"exm2271153-0_T_R_1984851743\", \"exm-rs2648875-131_T_F_1990490792\", \"exm-rs2239557-131_B_F_1990480968\", \"exm949913-0_T_R_1918216978\", \"exm849207-0_T_F_1920996144\", \"exm2271348-0_T_R_1984857774\", \"exm2269146-0_T_R_1984843498\", \"exm-rs3134768-131_T_F_1990491608\", \"exm465548-0_B_F_1921134052\", \"exm2266548-0_T_F_1984841683\", \"exm-rs7219585-131_T_F_1990493756\", \"exm1260159-0_T_R_1921751266\", \"exm2253106-0_T_R_1975254961\", \"exm1041102-0_T_F_1922563703\", \"exm2269250-0_T_R_1984842582\", \"exm2265920-0_T_F_1984859145\", \"exm-rs1239947-131_T_F_1990488046\", \"exm-rs3739014-131_T_F_1990491779\", \"exm2267005-0_T_F_1984857447\", \"exm2264206-0_T_F_1984848696\", \"exm2265020-0_T_F_2060136552\", \"exm1592910-0_T_F_2058873694\", \"exm2252100-0_T_F_1975263808\", \"exm2272524-0_T_R_1984842436\", \"exm595813-0_T_R_1921987584\", \"exm129130-0_T_R_1921409034\", \"exm2250111-0_T_F_1975255286\", \"exm460491-0_B_R_1921122773\", \"exm-rs16928529-131_T_R_1990489048\", \"exm2267814-0_T_F_1984853987\", \"exm542518-0_T_F_1921976807\", \"exm1428560-0_T_F_1920910780\", \"exm2266368-0_T_F_1984841201\", \"exm2271231-0_T_R_1984851167\", \"exm1261526-0_T_R_1921732444\", \"exm536676-0_T_F_1921896017\", \"exm2270980-0_T_R_1984855196\", \"exm1620458-0_T_R_1919081140\", \"exm1445593-0_B_R_1923206592\", \"exm1278255-0_T_R_1918753260\", \"exm780824-0_T_R_1922413256\", \"exm2264499-0_T_F_1984852068\", \"exm2266484-0_T_F_1984841279\", \"exm2264270-0_T_F_2058862235\", \"exm1204945-0_T_F_1921639225\", \"exm2270897-0_T_R_1984855410\", \"exm133479-0_T_R_1921454366\", \"exm2240741-0_T_F_1960124974\", \"exm2257377-0_T_R_1975249389\", \"exm2267065-0_T_F_1984857735\", \"exm886892-0_T_R_1918219404\", \"exm130329-0_T_R_1921503820\", \"exm2271600-0_T_R_1984840510\", \"exm1216964-0_T_R_1921686806\", \"exm2250161-0_T_F_1975250374\", \"exm1471106-0_T_F_1923157049\", \"exm1513022-0_B_R_1923192946\", \"exm1609353-0_B_F_2060122835\", \"exm1045390-0_T_R_1922522628\", \"exm1403922-0_T_F_1923151741\", \"exm1153447-0_B_R_2060132809\", \"exm2264731-0_T_F_1984840815\", \"exm2265021-0_T_F_2058865042\", \"exm-rs1297265-131_T_F_1990488359\", \"Smoking_status\"]]"
   ]
  },
  {
   "cell_type": "code",
   "execution_count": 30,
   "metadata": {},
   "outputs": [],
   "source": [
    "scaler = StandardScaler()\n",
    "scaled_features = scaler.fit_transform(joined_data_DT.iloc[:, 0:-1])\n",
    "\n",
    "labels=joined_data_DT.iloc[:, -1]\n",
    "\n",
    "# Diviser les données en ensembles d'entraînement et de test\n",
    "train_features, test_features, train_labels, test_labels = train_test_split(scaled_features, labels, test_size=0.2, random_state=42)"
   ]
  },
  {
   "cell_type": "code",
   "execution_count": 31,
   "metadata": {},
   "outputs": [
    {
     "data": {
      "text/html": [
       "<style>#sk-container-id-1 {color: black;background-color: white;}#sk-container-id-1 pre{padding: 0;}#sk-container-id-1 div.sk-toggleable {background-color: white;}#sk-container-id-1 label.sk-toggleable__label {cursor: pointer;display: block;width: 100%;margin-bottom: 0;padding: 0.3em;box-sizing: border-box;text-align: center;}#sk-container-id-1 label.sk-toggleable__label-arrow:before {content: \"▸\";float: left;margin-right: 0.25em;color: #696969;}#sk-container-id-1 label.sk-toggleable__label-arrow:hover:before {color: black;}#sk-container-id-1 div.sk-estimator:hover label.sk-toggleable__label-arrow:before {color: black;}#sk-container-id-1 div.sk-toggleable__content {max-height: 0;max-width: 0;overflow: hidden;text-align: left;background-color: #f0f8ff;}#sk-container-id-1 div.sk-toggleable__content pre {margin: 0.2em;color: black;border-radius: 0.25em;background-color: #f0f8ff;}#sk-container-id-1 input.sk-toggleable__control:checked~div.sk-toggleable__content {max-height: 200px;max-width: 100%;overflow: auto;}#sk-container-id-1 input.sk-toggleable__control:checked~label.sk-toggleable__label-arrow:before {content: \"▾\";}#sk-container-id-1 div.sk-estimator input.sk-toggleable__control:checked~label.sk-toggleable__label {background-color: #d4ebff;}#sk-container-id-1 div.sk-label input.sk-toggleable__control:checked~label.sk-toggleable__label {background-color: #d4ebff;}#sk-container-id-1 input.sk-hidden--visually {border: 0;clip: rect(1px 1px 1px 1px);clip: rect(1px, 1px, 1px, 1px);height: 1px;margin: -1px;overflow: hidden;padding: 0;position: absolute;width: 1px;}#sk-container-id-1 div.sk-estimator {font-family: monospace;background-color: #f0f8ff;border: 1px dotted black;border-radius: 0.25em;box-sizing: border-box;margin-bottom: 0.5em;}#sk-container-id-1 div.sk-estimator:hover {background-color: #d4ebff;}#sk-container-id-1 div.sk-parallel-item::after {content: \"\";width: 100%;border-bottom: 1px solid gray;flex-grow: 1;}#sk-container-id-1 div.sk-label:hover label.sk-toggleable__label {background-color: #d4ebff;}#sk-container-id-1 div.sk-serial::before {content: \"\";position: absolute;border-left: 1px solid gray;box-sizing: border-box;top: 0;bottom: 0;left: 50%;z-index: 0;}#sk-container-id-1 div.sk-serial {display: flex;flex-direction: column;align-items: center;background-color: white;padding-right: 0.2em;padding-left: 0.2em;position: relative;}#sk-container-id-1 div.sk-item {position: relative;z-index: 1;}#sk-container-id-1 div.sk-parallel {display: flex;align-items: stretch;justify-content: center;background-color: white;position: relative;}#sk-container-id-1 div.sk-item::before, #sk-container-id-1 div.sk-parallel-item::before {content: \"\";position: absolute;border-left: 1px solid gray;box-sizing: border-box;top: 0;bottom: 0;left: 50%;z-index: -1;}#sk-container-id-1 div.sk-parallel-item {display: flex;flex-direction: column;z-index: 1;position: relative;background-color: white;}#sk-container-id-1 div.sk-parallel-item:first-child::after {align-self: flex-end;width: 50%;}#sk-container-id-1 div.sk-parallel-item:last-child::after {align-self: flex-start;width: 50%;}#sk-container-id-1 div.sk-parallel-item:only-child::after {width: 0;}#sk-container-id-1 div.sk-dashed-wrapped {border: 1px dashed gray;margin: 0 0.4em 0.5em 0.4em;box-sizing: border-box;padding-bottom: 0.4em;background-color: white;}#sk-container-id-1 div.sk-label label {font-family: monospace;font-weight: bold;display: inline-block;line-height: 1.2em;}#sk-container-id-1 div.sk-label-container {text-align: center;}#sk-container-id-1 div.sk-container {/* jupyter's `normalize.less` sets `[hidden] { display: none; }` but bootstrap.min.css set `[hidden] { display: none !important; }` so we also need the `!important` here to be able to override the default hidden behavior on the sphinx rendered scikit-learn.org. See: https://github.com/scikit-learn/scikit-learn/issues/21755 */display: inline-block !important;position: relative;}#sk-container-id-1 div.sk-text-repr-fallback {display: none;}</style><div id=\"sk-container-id-1\" class=\"sk-top-container\"><div class=\"sk-text-repr-fallback\"><pre>DecisionTreeClassifier()</pre><b>In a Jupyter environment, please rerun this cell to show the HTML representation or trust the notebook. <br />On GitHub, the HTML representation is unable to render, please try loading this page with nbviewer.org.</b></div><div class=\"sk-container\" hidden><div class=\"sk-item\"><div class=\"sk-estimator sk-toggleable\"><input class=\"sk-toggleable__control sk-hidden--visually\" id=\"sk-estimator-id-1\" type=\"checkbox\" checked><label for=\"sk-estimator-id-1\" class=\"sk-toggleable__label sk-toggleable__label-arrow\">DecisionTreeClassifier</label><div class=\"sk-toggleable__content\"><pre>DecisionTreeClassifier()</pre></div></div></div></div></div>"
      ],
      "text/plain": [
       "DecisionTreeClassifier()"
      ]
     },
     "execution_count": 31,
     "metadata": {},
     "output_type": "execute_result"
    }
   ],
   "source": [
    "# Créer et entraîner le modèle DecisionTreeClassifier\n",
    "model = DecisionTreeClassifier()\n",
    "model.fit(train_features, train_labels)"
   ]
  },
  {
   "cell_type": "code",
   "execution_count": 32,
   "metadata": {},
   "outputs": [
    {
     "name": "stdout",
     "output_type": "stream",
     "text": [
      "Exactitude du modèle : 51.76%\n"
     ]
    }
   ],
   "source": [
    "# Faire des prédictions sur les données de test\n",
    "predictions = model.predict(test_features)\n",
    "\n",
    "# Calculer l'exactitude des prédictions\n",
    "accuracy = accuracy_score(test_labels, predictions)\n",
    "print(\"Exactitude du modèle : {:.2f}%\".format(accuracy * 100))"
   ]
  },
  {
   "cell_type": "code",
   "execution_count": 33,
   "metadata": {},
   "outputs": [
    {
     "name": "stdout",
     "output_type": "stream",
     "text": [
      "Precision SVM: 0.34563905903856273\n"
     ]
    }
   ],
   "source": [
    "# Calculer la précision\n",
    "precision_DT = precision_score(test_labels, predictions, average='macro')\n",
    "print(\"Precision SVM:\", precision_DT)"
   ]
  },
  {
   "cell_type": "code",
   "execution_count": 34,
   "metadata": {},
   "outputs": [
    {
     "name": "stdout",
     "output_type": "stream",
     "text": [
      "Recall SVM: 0.34562018666064914\n"
     ]
    }
   ],
   "source": [
    "# Calculer le rappel\n",
    "recall_DT = recall_score(test_labels, predictions, average='macro')\n",
    "print(\"Recall SVM:\", recall_DT)"
   ]
  },
  {
   "cell_type": "code",
   "execution_count": 35,
   "metadata": {},
   "outputs": [
    {
     "name": "stdout",
     "output_type": "stream",
     "text": [
      "F1-Score SVM: 0.3455816428641667\n"
     ]
    }
   ],
   "source": [
    "# Calculer le F1-score\n",
    "f1_DT = f1_score(test_labels, predictions, average='macro')\n",
    "print(\"F1-Score SVM:\", f1_DT)"
   ]
  },
  {
   "cell_type": "markdown",
   "metadata": {},
   "source": [
    "# Random Forest"
   ]
  },
  {
   "cell_type": "code",
   "execution_count": 74,
   "metadata": {},
   "outputs": [],
   "source": [
    "scaler = StandardScaler()\n",
    "scaled_features = scaler.fit_transform(joined_data.iloc[:, 1:-1])\n",
    "\n",
    "labels=joined_data.iloc[:, -1]\n",
    "\n",
    "# Diviser les données en ensembles d'entraînement et de test\n",
    "train_features, test_features, train_labels, test_labels = train_test_split(scaled_features, labels, test_size=0.2, random_state=42)"
   ]
  },
  {
   "cell_type": "code",
   "execution_count": 75,
   "metadata": {},
   "outputs": [
    {
     "name": "stdout",
     "output_type": "stream",
     "text": [
      "Accuracy Random Forest: 0.5647058823529412\n"
     ]
    }
   ],
   "source": [
    "# Créer et entraîner le modèle RandomForestClassifier\n",
    "rf_classifier = RandomForestClassifier()\n",
    "rf_classifier.fit(train_features, train_labels)\n",
    "\n",
    "#Faire des prédictions sur l'ensemble de test\n",
    "predictions = rf_classifier.predict(test_features)\n",
    "#Évaluer les performances du modèle\n",
    "accuracy = (predictions == test_labels).mean()\n",
    "print(\"Accuracy Random Forest:\", accuracy)"
   ]
  },
  {
   "cell_type": "code",
   "execution_count": 76,
   "metadata": {},
   "outputs": [
    {
     "name": "stdout",
     "output_type": "stream",
     "text": [
      "Precision SVM: 0.3784027673334336\n"
     ]
    },
    {
     "name": "stderr",
     "output_type": "stream",
     "text": [
      "/home/legrand/.local/lib/python3.10/site-packages/sklearn/metrics/_classification.py:1334: UndefinedMetricWarning: Precision is ill-defined and being set to 0.0 in labels with no predicted samples. Use `zero_division` parameter to control this behavior.\n",
      "  _warn_prf(average, modifier, msg_start, len(result))\n"
     ]
    }
   ],
   "source": [
    "# Calculer la précision\n",
    "precision_RF = precision_score(test_labels, predictions, average='macro')\n",
    "print(\"Precision SVM:\", precision_RF)"
   ]
  },
  {
   "cell_type": "code",
   "execution_count": 77,
   "metadata": {},
   "outputs": [
    {
     "name": "stdout",
     "output_type": "stream",
     "text": [
      "Recall SVM: 0.3752451873839157\n"
     ]
    }
   ],
   "source": [
    "# Calculer le rappel\n",
    "recall_RF = recall_score(test_labels, predictions, average='macro')\n",
    "print(\"Recall SVM:\", recall_RF)"
   ]
  },
  {
   "cell_type": "code",
   "execution_count": 78,
   "metadata": {},
   "outputs": [
    {
     "name": "stdout",
     "output_type": "stream",
     "text": [
      "F1-Score SVM: 0.37007273710478844\n"
     ]
    }
   ],
   "source": [
    "# Calculer le F1-score\n",
    "f1_RF = f1_score(test_labels, predictions, average='macro')\n",
    "print(\"F1-Score SVM:\", f1_RF)"
   ]
  },
  {
   "cell_type": "code",
   "execution_count": 79,
   "metadata": {},
   "outputs": [],
   "source": [
    "# Obtenir l'importance des caractéristiques du modèle Random Forest\n",
    "feature_importances = rf_classifier.feature_importances_\n",
    "\n",
    "# Trier les indices des caractéristiques par ordre décroissant de l'importance\n",
    "top_feature_indices = np.argsort(feature_importances)[::-1][:100]\n",
    "\n",
    "# Obtenir les noms des caractéristiques (variants)\n",
    "feature_names = joined_data.columns[1:-1]\n",
    "\n",
    "# Créez un DataFrame avec les noms des caractéristiques et leurs scores d'importance\n",
    "top_feature_df = pd.DataFrame({'Feature': feature_names[top_feature_indices], 'Importance': feature_importances[top_feature_indices]})\n",
    "\n",
    "# Sauvegardez le DataFrame au format CSV\n",
    "top_feature_df.to_csv('RFC_01_best.csv', index=False)"
   ]
  },
  {
   "cell_type": "markdown",
   "metadata": {},
   "source": [
    "## Réentrainer Random Forest avec les 100 meilleurs variants du modèle RF"
   ]
  },
  {
   "cell_type": "code",
   "execution_count": 36,
   "metadata": {},
   "outputs": [],
   "source": [
    "joined_data_RF = joined_data[[\"exm908706-0_T_R_1918250194\", \"exm2256734-0_T_F_1975265310\", \"exm1113745-0_T_R_1922726236\", \"exm2264786-0_T_F_1984849304\", \"exm2272786-0_T_R_1984856818\", \"exm1571264-0_T_F_1918418025\", \"exm2253907-0_T_F_1975249220\", \"exm-rs216345-131_T_R_1990489950\", \"exm258907-0_T_R_1918966528\", \"exm1645729-0_T_R_1922091922\", \"exm2264943-0_T_F_1984845697\", \"exm2262827-0_T_R_2060130322\", \"exm-rs2082412-131_T_F_1990489819\", \"exm2268311-0_T_F_1984853189\", \"exm2264808-0_T_F_1984844735\", \"exm-rs10913469-131_T_R_1990487342\", \"exm-rs9615362-131_T_F_1990495029\", \"exm-rs237655-131_T_F_1990490310\", \"exm145016-0_T_F_1921372527\", \"exm-rs314268-131_T_R_1990491645\", \"exm276187-0_T_F_1918988647\", \"exm-rs2357266-131_T_R_1990490294\", \"exm2264790-0_T_F_1984849480\", \"exm659487-0_T_R_1918573906\", \"exm2268426-0_T_F_2060139846\", \"exm187711-0_T_R_1918853612\", \"exm1026364-0_T_R_1922496034\", \"exm2273027-0_T_R_1984844226\", \"exm1095751-0_B_F_1922796725\", \"exm2271981-0_T_R_1984846996\", \"exm1402217-0_T_R_1923279522\", \"exm530736-0_T_F_1921847117\", \"exm-rs9786537-131_T_R_1990495083\", \"exm2273274-0_T_R_1984849695\", \"exm730704-0_T_R_1923001722\", \"exm2268229-0_T_F_1984856869\", \"exm1438923-0_T_F_1923257819\", \"exm2260209-0_T_F_1975257098\", \"exm-rs4638289-131_B_R_1990483353\", \"exm235268-0_T_R_1918817834\", \"exm-rs9369640-131_T_F_1990494843\", \"exm2260903-0_T_F_1975264348\", \"exm1599715-0_T_F_1919081101\", \"exm713312-0_T_F_1922967753\", \"exm413388-0_T_R_1923023662\", \"exm67204-0_T_R_1921434396\", \"exm1155529-0_B_R_2060132187\", \"exm1161562-0_T_F_1922840197\", \"exm-rs10816533-131_T_F_1990487259\", \"exm1284780-0_T_R_1918639732\", \"exm2268203-0_T_F_1984856915\", \"exm1261646-0_T_F_1921769861\", \"exm1293674-0_T_R_1918608824\", \"exm-rs252817-131_T_R_1990490637\", \"exm2267313-0_T_F_1984852520\", \"exm511291-0_T_F_1921130102\", \"exm2264637-0_T_F_1984842339\", \"exm2264974-0_T_F_1984845581\", \"exm2265989-0_T_F_1984858421\", \"exm1085300-0_T_F_1922742283\", \"exm2273385-240_T_F_1984859798\", \"exm2258278-0_T_R_1975252143\", \"exm38238-0_T_R_1921439306\", \"exm2270065-0_T_R_1984858364\", \"exm-rs11663206-131_T_R_1990487717\", \"exm279436-0_T_F_2060153175\", \"exm2255607-0_T_F_1975259870\", \"exm2267201-0_T_F_1984840543\", \"exm2264208-0_T_F_2060130647\", \"exm2253412-0_T_R_1975243646\", \"exm2266856-0_T_F_1984851116\", \"exm2264353-0_T_F_1984851224\", \"exm-rs10928195-131_B_R_2058871286\", \"exm2256656-0_T_F_1975248518\", \"exm764743-0_B_F_1922345093\", \"exm542864-0_T_F_1921953909\", \"exm-rs830998-131_T_F_1990494503\", \"exm1420710-0_T_R_1920901457\", \"exm757715-0_T_R_1922303314\", \"exm148255-0_B_R_2060122926\", \"exm2251732-0_T_R_1975246957\", \"exm-rs6839672-131_T_F_1990493380\", \"exm2265719-0_T_F_1984856295\", \"exm2254299-0_T_F_2060147773\", \"exm714864-0_T_R_1922916688\", \"exm7551-0_T_R_1921491574\", \"exm-rs7932813-131_T_F_2060125716\", \"exm2265552-0_T_F_1984850792\", \"exm801535-0_T_R_1922355698\", \"exm562060-0_T_R_1921923750\", \"exm2268630-0_T_F_1984849742\", \"exm-rs11782819-131_T_R_1990487805\", \"exm70490-0_T_R_1921347904\", \"exm2267533-0_T_F_1984846593\", \"exm1350497-0_T_R_1918721584\", \"exm2260750-0_T_R_1975242924\", \"exm2268505-0_T_F_1984848912\", \"exm2269235-0_T_R_1984842922\", \"exm2270685-0_T_R_1984841076\", \"exm-rs4959089-131_T_F_2060141535\", \"Smoking_status\"]]"
   ]
  },
  {
   "cell_type": "code",
   "execution_count": 37,
   "metadata": {},
   "outputs": [],
   "source": [
    "scaler = StandardScaler()\n",
    "scaled_features = scaler.fit_transform(joined_data_RF.iloc[:, 0:-1])\n",
    "\n",
    "labels=joined_data_RF.iloc[:, -1]\n",
    "\n",
    "# Diviser les données en ensembles d'entraînement et de test\n",
    "train_features, test_features, train_labels, test_labels = train_test_split(scaled_features, labels, test_size=0.2, random_state=42)"
   ]
  },
  {
   "cell_type": "code",
   "execution_count": 38,
   "metadata": {},
   "outputs": [
    {
     "name": "stdout",
     "output_type": "stream",
     "text": [
      "Accuracy Random Forest: 0.5617647058823529\n"
     ]
    }
   ],
   "source": [
    "# Créer et entraîner le modèle RandomForestClassifier\n",
    "rf_classifier = RandomForestClassifier()\n",
    "rf_classifier.fit(train_features, train_labels)\n",
    "\n",
    "#Faire des prédictions sur l'ensemble de test\n",
    "predictions = rf_classifier.predict(test_features)\n",
    "#Évaluer les performances du modèle\n",
    "accuracy = (predictions == test_labels).mean()\n",
    "print(\"Accuracy Random Forest:\", accuracy)"
   ]
  },
  {
   "cell_type": "code",
   "execution_count": 39,
   "metadata": {},
   "outputs": [
    {
     "name": "stdout",
     "output_type": "stream",
     "text": [
      "Precision SVM: 0.37440449325510256\n"
     ]
    },
    {
     "name": "stderr",
     "output_type": "stream",
     "text": [
      "/home/legrand/.local/lib/python3.10/site-packages/sklearn/metrics/_classification.py:1334: UndefinedMetricWarning: Precision is ill-defined and being set to 0.0 in labels with no predicted samples. Use `zero_division` parameter to control this behavior.\n",
      "  _warn_prf(average, modifier, msg_start, len(result))\n"
     ]
    }
   ],
   "source": [
    "# Calculer la précision\n",
    "precision_RF = precision_score(test_labels, predictions, average='macro')\n",
    "print(\"Precision SVM:\", precision_RF)"
   ]
  },
  {
   "cell_type": "code",
   "execution_count": 40,
   "metadata": {},
   "outputs": [
    {
     "name": "stdout",
     "output_type": "stream",
     "text": [
      "Recall SVM: 0.37410821225850127\n"
     ]
    }
   ],
   "source": [
    "# Calculer le rappel\n",
    "recall_RF = recall_score(test_labels, predictions, average='macro')\n",
    "print(\"Recall SVM:\", recall_RF)"
   ]
  },
  {
   "cell_type": "code",
   "execution_count": 41,
   "metadata": {},
   "outputs": [
    {
     "name": "stdout",
     "output_type": "stream",
     "text": [
      "F1-Score SVM: 0.3726384156388476\n"
     ]
    }
   ],
   "source": [
    "# Calculer le F1-score\n",
    "f1_RF = f1_score(test_labels, predictions, average='macro')\n",
    "print(\"F1-Score SVM:\", f1_RF)"
   ]
  },
  {
   "cell_type": "markdown",
   "metadata": {},
   "source": [
    "# Voting"
   ]
  },
  {
   "cell_type": "code",
   "execution_count": 179,
   "metadata": {},
   "outputs": [],
   "source": [
    "scaler = StandardScaler()\n",
    "scaled_features = scaler.fit_transform(joined_data.iloc[:, 1:-1])\n",
    "\n",
    "labels=joined_data.iloc[:, -1]\n",
    "\n",
    "# Diviser les données en ensembles d'entraînement et de test\n",
    "train_features, test_features, train_labels, test_labels = train_test_split(scaled_features, labels, test_size=0.2, random_state=42)"
   ]
  },
  {
   "cell_type": "code",
   "execution_count": 180,
   "metadata": {},
   "outputs": [
    {
     "name": "stderr",
     "output_type": "stream",
     "text": [
      "/home/legrand/.local/lib/python3.10/site-packages/sklearn/linear_model/_logistic.py:444: ConvergenceWarning: lbfgs failed to converge (status=1):\n",
      "STOP: TOTAL NO. of ITERATIONS REACHED LIMIT.\n",
      "\n",
      "Increase the number of iterations (max_iter) or scale the data as shown in:\n",
      "    https://scikit-learn.org/stable/modules/preprocessing.html\n",
      "Please also refer to the documentation for alternative solver options:\n",
      "    https://scikit-learn.org/stable/modules/linear_model.html#logistic-regression\n",
      "  n_iter_i = _check_optimize_result(\n"
     ]
    },
    {
     "name": "stdout",
     "output_type": "stream",
     "text": [
      "Accuracy Voting: 0.5647058823529412\n"
     ]
    }
   ],
   "source": [
    "svm_model = svm.SVC()\n",
    "logistic_model = LogisticRegression()\n",
    "decision_tree_model = DecisionTreeClassifier()\n",
    "random_forest_model = RandomForestClassifier()\n",
    "\n",
    "#Regrouper les modèles dans un ensemble learning\n",
    "ensemble_model = VotingClassifier(\n",
    "estimators=[\n",
    "(\"svm\", svm_model),\n",
    "(\"logistic\", logistic_model),\n",
    "(\"decision_tree\", decision_tree_model),\n",
    "(\"random_forest\", random_forest_model),\n",
    "]\n",
    ")\n",
    "\n",
    "#Entraîner l'ensemble learning\n",
    "ensemble_model.fit(train_features, train_labels)\n",
    "\n",
    "#Faire des prédictions sur l'ensemble de test\n",
    "predictions = ensemble_model.predict(test_features)\n",
    "#Évaluer les performances de l'ensemble learning\n",
    "accuracy = (predictions == test_labels).mean()\n",
    "print(\"Accuracy Voting:\", accuracy)"
   ]
  },
  {
   "cell_type": "code",
   "execution_count": 181,
   "metadata": {},
   "outputs": [
    {
     "name": "stdout",
     "output_type": "stream",
     "text": [
      "Precision Voting: 0.3814374185136897\n"
     ]
    },
    {
     "name": "stderr",
     "output_type": "stream",
     "text": [
      "/home/legrand/.local/lib/python3.10/site-packages/sklearn/metrics/_classification.py:1334: UndefinedMetricWarning: Precision is ill-defined and being set to 0.0 in labels with no predicted samples. Use `zero_division` parameter to control this behavior.\n",
      "  _warn_prf(average, modifier, msg_start, len(result))\n"
     ]
    }
   ],
   "source": [
    "# Calculer la précision\n",
    "precision_Voting = precision_score(test_labels, predictions, average='macro')\n",
    "print(\"Precision Voting:\", precision_Voting)"
   ]
  },
  {
   "cell_type": "code",
   "execution_count": 183,
   "metadata": {},
   "outputs": [
    {
     "name": "stdout",
     "output_type": "stream",
     "text": [
      "Recall Voting: 0.3745682098283254\n"
     ]
    }
   ],
   "source": [
    "# Calculer le rappel\n",
    "recall_Voting = recall_score(test_labels, predictions, average='macro')\n",
    "print(\"Recall Voting:\", recall_Voting)"
   ]
  },
  {
   "cell_type": "code",
   "execution_count": 184,
   "metadata": {},
   "outputs": [
    {
     "name": "stdout",
     "output_type": "stream",
     "text": [
      "F1-Score Voting: 0.3642851009404842\n"
     ]
    }
   ],
   "source": [
    "# Calculer le F1-score\n",
    "f1_Voting = f1_score(test_labels, predictions, average='macro')\n",
    "print(\"F1-Score Voting:\", f1_Voting)"
   ]
  },
  {
   "cell_type": "code",
   "execution_count": 185,
   "metadata": {},
   "outputs": [],
   "source": [
    "# Initialiser un dictionnaire pour stocker les importances des caractéristiques\n",
    "feature_importances = {}\n",
    "\n",
    "# Obtenir les importances des caractéristiques pour chaque modèle individuel\n",
    "for name, model_voting in ensemble_model.named_estimators_.items():\n",
    "    if hasattr(model_voting, \"feature_importances_\"):\n",
    "        feature_importances[name] = model_voting.feature_importances_\n",
    "\n",
    "# Calculer les importances agrégées en moyenne\n",
    "aggregate_importances = np.mean(list(feature_importances.values()), axis=0)\n",
    "\n",
    "# Trier les indices des caractéristiques par ordre décroissant des importances\n",
    "top_feature_indices = np.argsort(aggregate_importances)[::-1][:100]\n",
    "\n",
    "# Obtenir les noms des caractéristiques (variants)\n",
    "feature_names = joined_data.columns[1:-1]\n",
    "\n",
    "# Créez un DataFrame avec les noms des caractéristiques et leurs scores d'importance\n",
    "top_feature_df = pd.DataFrame({'Feature': feature_names[top_feature_indices], 'Importance': aggregate_importances[top_feature_indices]})\n",
    "\n",
    "# Sauvegardez le DataFrame au format CSV\n",
    "top_feature_df.to_csv('Voting_01_best.csv', index=False)"
   ]
  },
  {
   "cell_type": "markdown",
   "metadata": {},
   "source": [
    "## Réentrainer le modèle Voting avec les 100 meilleurs features"
   ]
  },
  {
   "cell_type": "code",
   "execution_count": 187,
   "metadata": {},
   "outputs": [],
   "source": [
    "joined_data_V = joined_data[[\"exm908706-0_T_R_1918250194\", \"exm1102004-0_T_R_1922683206\", \"exm1626263-0_T_R_1922025424\", \"exm1492113-0_T_R_1923149748\", \"exm-rs16965350-131_T_R_2060141737\", \"exm2272408-0_T_R_1984847421\", \"exm2269532-0_T_R_1984850857\", \"exm-rs12986413-131_T_F_2060139046\", \"exm-rs9592783-131_T_F_1990495019\", \"exm-rs3810947-131_T_F_1990491911\", \"exm-rs237655-131_T_F_1990490310\", \"exm-rs9313625-131_T_F_1990494792\", \"exm2266247-0_T_F_1984847784\", \"exm338177-0_T_R_1922282934\", \"exm2261297-0_T_R_1975242056\", \"exm1430638-0_T_R_1920898413\", \"exm2271837-0_T_R_1984852732\", \"exm2251115-0_T_F_1975262498\", \"exm2257028-0_T_F_1975249462\", \"exm-rs10223421-131_T_R_1990486895\", \"exm972374-0_B_R_1922516864\", \"exm-rs2102294-131_T_F_1990489853\", \"exm371020-0_T_R_1922249318\", \"exm1623457-0_T_R_1919111400\", \"exm2269107-0_T_R_1984842858\", \"exm764831-0_T_R_1922420162\", \"exm2265723-0_T_F_1984856411\", \"exm1504957-0_T_R_1920936827\", \"exm-rs1601875-131_T_R_1990488897\", \"exm1613605-0_T_F_1919057095\", \"exm2265376-0_T_F_1984842805\", \"exm-rs2571402-131_T_R_1990490693\", \"exm2255749-0_T_R_1975260441\", \"exm2271153-0_T_R_1984851743\", \"exm2263917-0_T_F_1984842769\", \"exm-rs1558744-131_T_F_1990488847\", \"exm949913-0_T_R_1918216978\", \"exm2269239-0_T_R_1984843208\", \"exm402538-0_T_R_1923061976\", \"exm2267005-0_T_F_1984857447\", \"exm-rs2239557-131_B_F_1990480968\", \"exm2268641-0_T_R_1984844486\", \"exm-rs2648875-131_T_F_1990490792\", \"exm2271348-0_T_R_1984857774\", \"exm849207-0_T_F_1920996144\", \"exm2266548-0_T_F_1984841683\", \"exm2265920-0_T_F_1984859145\", \"exm-rs7219585-131_T_F_1990493756\", \"exm2269146-0_T_R_1984843498\", \"exm1260159-0_T_R_1921751266\", \"exm2253106-0_T_R_1975254961\", \"exm-rs3134768-131_T_F_1990491608\", \"exm-rs1239947-131_T_F_1990488046\", \"exm2269250-0_T_R_1984842582\", \"exm2265020-0_T_F_2060136552\", \"exm1592910-0_T_F_2058873694\", \"exm-rs3739014-131_T_F_1990491779\", \"exm2272524-0_T_R_1984842436\", \"exm1041102-0_T_F_1922563703\", \"exm780824-0_T_R_1922413256\", \"exm2264206-0_T_F_1984848696\", \"exm2252100-0_T_F_1975263808\", \"exm542518-0_T_F_1921976807\", \"exm2250111-0_T_F_1975255286\", \"exm1428560-0_T_F_1920910780\", \"exm460491-0_B_R_1921122773\", \"exm-rs16928529-131_T_R_1990489048\", \"exm2267814-0_T_F_1984853987\", \"exm129130-0_T_R_1921409034\", \"exm2271231-0_T_R_1984851167\", \"exm595813-0_T_R_1921987584\", \"exm536676-0_T_F_1921896017\", \"exm345336-0_B_F_2058871112\", \"exm2266830-0_T_F_1984851194\", \"exm2270980-0_T_R_1984855196\", \"exm2264270-0_T_F_2058862235\", \"exm2264499-0_T_F_1984852068\", \"exm2270897-0_T_R_1984855410\", \"exm2266484-0_T_F_1984841279\", \"exm1445593-0_B_R_1923206592\", \"exm847614-0_T_R_1921001445\", \"exm1620458-0_T_R_1919081140\", \"exm1513022-0_B_R_1923192946\", \"exm133479-0_T_R_1921454366\", \"exm2240741-0_T_F_1960124974\", \"exm1204945-0_T_F_1921639225\", \"exm2258950-0_T_F_1975248070\", \"exm2257377-0_T_R_1975249389\", \"exm1353332-0_T_R_1918662912\", \"exm886892-0_T_R_1918219404\", \"exm2250161-0_T_F_1975250374\", \"exm2250565-0_T_F_1975255702\", \"exm1216964-0_T_R_1921686806\", \"exm-rs11239177-131_T_R_1990487594\", \"exm1403922-0_T_F_1923151741\", \"exm2265021-0_T_F_2058865042\", \"exm-rs1297265-131_T_F_1990488359\", \"exm1471106-0_T_F_1923157049\", \"exm207243-0_B_F_1918940897\", \"exm1153447-0_B_R_2060132809\", \"Smoking_status\"]]"
   ]
  },
  {
   "cell_type": "code",
   "execution_count": 188,
   "metadata": {},
   "outputs": [],
   "source": [
    "scaler = StandardScaler()\n",
    "scaled_features = scaler.fit_transform(joined_data_V.iloc[:, 0:-1])\n",
    "\n",
    "labels=joined_data_V.iloc[:, -1]\n",
    "\n",
    "# Diviser les données en ensembles d'entraînement et de test\n",
    "train_features, test_features, train_labels, test_labels = train_test_split(scaled_features, labels, test_size=0.2, random_state=42)"
   ]
  },
  {
   "cell_type": "code",
   "execution_count": 189,
   "metadata": {},
   "outputs": [
    {
     "name": "stdout",
     "output_type": "stream",
     "text": [
      "Accuracy Voting: 0.5455882352941176\n"
     ]
    }
   ],
   "source": [
    "svm_model = svm.SVC()\n",
    "logistic_model = LogisticRegression()\n",
    "decision_tree_model = DecisionTreeClassifier()\n",
    "random_forest_model = RandomForestClassifier()\n",
    "\n",
    "#Regrouper les modèles dans un ensemble learning\n",
    "ensemble_model = VotingClassifier(\n",
    "estimators=[\n",
    "(\"svm\", svm_model),\n",
    "(\"logistic\", logistic_model),\n",
    "(\"decision_tree\", decision_tree_model),\n",
    "(\"random_forest\", random_forest_model),\n",
    "]\n",
    ")\n",
    "\n",
    "#Entraîner l'ensemble learning\n",
    "ensemble_model.fit(train_features, train_labels)\n",
    "\n",
    "#Faire des prédictions sur l'ensemble de test\n",
    "predictions = ensemble_model.predict(test_features)\n",
    "#Évaluer les performances de l'ensemble learning\n",
    "accuracy = (predictions == test_labels).mean()\n",
    "print(\"Accuracy Voting:\", accuracy)"
   ]
  },
  {
   "cell_type": "code",
   "execution_count": 190,
   "metadata": {},
   "outputs": [
    {
     "name": "stdout",
     "output_type": "stream",
     "text": [
      "Precision Voting: 0.3640038569945112\n"
     ]
    },
    {
     "name": "stderr",
     "output_type": "stream",
     "text": [
      "/home/legrand/.local/lib/python3.10/site-packages/sklearn/metrics/_classification.py:1334: UndefinedMetricWarning: Precision is ill-defined and being set to 0.0 in labels with no predicted samples. Use `zero_division` parameter to control this behavior.\n",
      "  _warn_prf(average, modifier, msg_start, len(result))\n"
     ]
    }
   ],
   "source": [
    "# Calculer la précision\n",
    "precision_Voting = precision_score(test_labels, predictions, average='macro')\n",
    "print(\"Precision Voting:\", precision_Voting)"
   ]
  },
  {
   "cell_type": "code",
   "execution_count": 191,
   "metadata": {},
   "outputs": [
    {
     "name": "stdout",
     "output_type": "stream",
     "text": [
      "Recall Voting: 0.3626082730128973\n"
     ]
    }
   ],
   "source": [
    "# Calculer le rappel\n",
    "recall_Voting = recall_score(test_labels, predictions, average='macro')\n",
    "print(\"Recall Voting:\", recall_Voting)"
   ]
  },
  {
   "cell_type": "code",
   "execution_count": 192,
   "metadata": {},
   "outputs": [
    {
     "name": "stdout",
     "output_type": "stream",
     "text": [
      "F1-Score Voting: 0.3579540184191347\n"
     ]
    }
   ],
   "source": [
    "# Calculer le F1-score\n",
    "f1_Voting = f1_score(test_labels, predictions, average='macro')\n",
    "print(\"F1-Score Voting:\", f1_Voting)"
   ]
  },
  {
   "cell_type": "markdown",
   "metadata": {},
   "source": [
    "# Boosting"
   ]
  },
  {
   "cell_type": "code",
   "execution_count": 193,
   "metadata": {},
   "outputs": [],
   "source": [
    "scaler = StandardScaler()\n",
    "scaled_features = scaler.fit_transform(joined_data.iloc[:, 1:-1])\n",
    "\n",
    "labels=joined_data.iloc[:, -1]\n",
    "\n",
    "# Diviser les données en ensembles d'entraînement et de test\n",
    "train_features, test_features, train_labels, test_labels = train_test_split(scaled_features, labels, test_size=0.2, random_state=42)"
   ]
  },
  {
   "cell_type": "code",
   "execution_count": 194,
   "metadata": {},
   "outputs": [
    {
     "name": "stdout",
     "output_type": "stream",
     "text": [
      "Accuracy Boosting: 0.4852941176470588\n"
     ]
    }
   ],
   "source": [
    "# Initialisation du AdaBoostClassifier\n",
    "boosting_model = AdaBoostClassifier(\n",
    "    base_estimator=None,  # Vous pouvez spécifier un modèle de base si nécessaire\n",
    "    n_estimators=50,  # Nombre d'estimateurs (modèles) à entraîner\n",
    "    random_state=42  # Réglez la graine aléatoire pour la reproductibilité\n",
    ")\n",
    "\n",
    "# Entraîner le modèle AdaBoost avec les modèles individuels\n",
    "boosting_model.fit(train_features, train_labels)\n",
    "\n",
    "# Faire des prédictions sur l'ensemble de test\n",
    "predictions = boosting_model.predict(test_features)\n",
    "\n",
    "# Évaluer les performances du modèle\n",
    "accuracy = accuracy_score(test_labels, predictions)\n",
    "print(\"Accuracy Boosting:\", accuracy)"
   ]
  },
  {
   "cell_type": "code",
   "execution_count": 195,
   "metadata": {},
   "outputs": [
    {
     "name": "stdout",
     "output_type": "stream",
     "text": [
      "Precision Boosting: 0.3244755494775606\n"
     ]
    },
    {
     "name": "stderr",
     "output_type": "stream",
     "text": [
      "/home/legrand/.local/lib/python3.10/site-packages/sklearn/metrics/_classification.py:1334: UndefinedMetricWarning: Precision is ill-defined and being set to 0.0 in labels with no predicted samples. Use `zero_division` parameter to control this behavior.\n",
      "  _warn_prf(average, modifier, msg_start, len(result))\n"
     ]
    }
   ],
   "source": [
    "# Calculer la précision\n",
    "precision_Boosting = precision_score(test_labels, predictions, average='macro')\n",
    "print(\"Precision Boosting:\", precision_Boosting)"
   ]
  },
  {
   "cell_type": "code",
   "execution_count": 196,
   "metadata": {},
   "outputs": [
    {
     "name": "stdout",
     "output_type": "stream",
     "text": [
      "Recall Boosting: 0.3251401690708049\n"
     ]
    }
   ],
   "source": [
    "# Calculer le rappel\n",
    "recall_Boosting = recall_score(test_labels, predictions, average='macro')\n",
    "print(\"Recall Boosting:\", recall_Boosting)"
   ]
  },
  {
   "cell_type": "code",
   "execution_count": 197,
   "metadata": {},
   "outputs": [
    {
     "name": "stdout",
     "output_type": "stream",
     "text": [
      "F1-Score Boosting: 0.3215869209809264\n"
     ]
    }
   ],
   "source": [
    "# Calculer le F1-score\n",
    "f1_Boosting = f1_score(test_labels, predictions, average='macro')\n",
    "print(\"F1-Score Boosting:\", f1_Boosting)"
   ]
  },
  {
   "cell_type": "code",
   "execution_count": 199,
   "metadata": {},
   "outputs": [],
   "source": [
    "# Obtenir l'importance des caractéristiques (features)\n",
    "feature_importance = boosting_model.feature_importances_\n",
    "# Obtenir les noms des colonnes (variantes)\n",
    "variant_names = joined_data.columns[1:-1]  # Exclure la première colonne (ID) et la dernière colonne (labels)\n",
    "\n",
    "# Trier les variantes par importance décroissante\n",
    "sorted_indices = np.argsort(feature_importance)[::-1]\n",
    "sorted_variants = variant_names[sorted_indices]\n",
    "\n",
    "# Afficher les 100 variantes les plus importantes avec leurs taux d'importance\n",
    "top_10_variants = sorted_variants[:100]\n",
    "top_10_importances = feature_importance[sorted_indices][:100]\n",
    "\n",
    "# Créez un DataFrame avec les noms des caractéristiques et leurs scores d'importance\n",
    "top_feature_df = pd.DataFrame({'Feature': top_10_variants, 'Importance': top_10_importances})\n",
    "\n",
    "# Sauvegardez le DataFrame au format CSV\n",
    "top_feature_df.to_csv('Boosting_01_best.csv', index=False)"
   ]
  },
  {
   "cell_type": "markdown",
   "metadata": {},
   "source": [
    "## Réentrainer le modèle avec les 100 meilleurs features"
   ]
  },
  {
   "cell_type": "code",
   "execution_count": 42,
   "metadata": {},
   "outputs": [],
   "source": [
    "joined_data_B=joined_data[[\"exm-rs10179126-131_B_R_1990477727\", \"exm2267945-0_T_F_1984847470\", \"exm908706-0_T_R_1918250194\", \"exm541797-0_T_R_1921926070\", \"exm1600069-0_T_F_1919091863\", \"exm1528175-0_T_R_1922656384\", \"exm1601430-0_T_F_1919054405\", \"exm-rs1452928-131_T_R_1990488694\", \"exm887511-0_T_R_1918307449\", \"exm2273223-0_T_R_1984849553\", \"exm-rs1502844-131_T_R_1990488749\", \"exm-rs1385351-131_T_R_1990488611\", \"exm404162-0_T_R_1923119670\", \"exm-rs2516739-131_T_R_1990490486\", \"exm2252439-0_T_F_1975257678\", \"exm1280996-0_T_F_1918713047\", \"exm945257-0_T_R_1918259488\", \"exm-rs882300-131_T_F_1990494565\", \"exm950283-0_B_F_2058870752\", \"exm1511610-0_T_R_1923296968\", \"exm183024-0_T_F_1918831453\", \"exm2270283-0_T_R_1984848545\", \"exm558869-0_B_F_1921954573\", \"exm1504782-0_T_F_1923161511\", \"exm198693-0_B_R_1918923450\", \"exm62737-0_T_F_1921491353\", \"exm1171677-0_T_F_1922862537\", \"exm2273045-0_T_R_1984844184\", \"exm1132199-0_T_R_1922712658\", \"exm277163-0_T_R_1918979400\", \"exm-rs12338076-131_T_F_1990488032\", \"exm2035363-0_T_R_1927927401\", \"exm430029-0_T_R_1923073754\", \"exm700283-0_B_R_1923018572\", \"exm403987-0_T_F_1923030015\", \"exm2268233-0_T_F_1984857063\", \"exm288871-0_T_F_1922239097\", \"exm-rs4657482-131_T_F_1990492413\", \"exm-rs7265718-131_T_R_1990493789\", \"exm-rs10820100-131_T_R_1990487266\", \"exm1322645-0_T_R_1918782594\", \"exm1319130-0_T_R_1918704842\", \"exm989020-0_B_F_1922507013\", \"exm763848-0_T_R_1922417746\", \"exm2262194-0_T_F_1975244813\", \"exm564879-0_T_R_1922009058\", \"exm530019-0_T_R_1922010574\", \"exm-rs9296068-131_T_R_1990494759\", \"exm567935-0_T_R_1921983236\", \"exm589124-0_T_F_1921962157\", \"exm2270496-0_T_R_1984848539\", \"exm2270522-0_T_R_1984848497\", \"exm540442-0_T_F_1921863463\", \"exm-rs7751705-131_T_R_1990494159\", \"exm2266247-0_T_F_1984847784\", \"exm520507-0_T_R_1921916388\", \"exm562052-0_T_R_1921975416\", \"exm556030-0_T_F_1921918909\", \"exm584638-0_T_R_1921953346\", \"exm-rs1559874-131_T_F_2060130789\", \"exm587439-0_T_F_1921997345\", \"exm562060-0_T_R_1921923750\", \"exm-rs2284165-131_B_R_2060131484\", \"exm-rs6935269-131_T_R_1990493519\", \"exm2270486-0_T_R_1984847881\", \"exm580572-0_T_F_1921905317\", \"exm542625-0_T_F_1921963277\", \"exm530736-0_T_F_1921847117\", \"exm2266231-0_T_F_1984848576\", \"exm552866-0_T_R_1921913116\", \"exm-rs9369842-131_T_R_1990494846\", \"exm571556-0_B_F_1922001181\", \"exm545297-0_T_R_1921965990\", \"exm526889-0_B_F_1921883187\", \"exm-rs4148249-131_T_F_1990492121\", \"exm568150-0_T_R_1921892334\", \"exm586871-0_B_R_1921961008\", \"exm-rs399604-131_T_F_1990492062\", \"exm-rs769177-131_T_F_1990494100\", \"exm-rs10440833-131_T_F_1990486974\", \"exm587180-0_T_F_2060141025\", \"exm572656-0_T_F_1921855717\", \"exm2257979-0_T_F_2060130052\", \"exm566997-0_T_F_1921953995\", \"exm2270307-0_T_R_1984848579\", \"exm524558-0_T_F_1921963081\", \"exm576480-0_T_R_1921916068\", \"exm571981-0_T_R_1921913348\", \"exm542832-0_T_F_1921968003\", \"exm2121367-0_B_R_1927877983\", \"exm583685-0_T_R_2060422616\", \"exm-rs6922632-131_T_F_1990493482\", \"exm521580-0_T_F_1921927939\", \"exm566081-0_T_F_1921875319\", \"exm576964-0_T_R_1921966650\", \"exm525052-0_T_R_1921990652\", \"exm-rs3873352-131_B_R_2060121648\", \"exm-rs2294472-131_T_R_1990490206\", \"exm-rs210132-131_T_R_1990489840\", \"exm554285-0_T_F_1921896077\", \"Smoking_status\"]]"
   ]
  },
  {
   "cell_type": "code",
   "execution_count": 43,
   "metadata": {},
   "outputs": [
    {
     "data": {
      "text/html": [
       "<div>\n",
       "<style scoped>\n",
       "    .dataframe tbody tr th:only-of-type {\n",
       "        vertical-align: middle;\n",
       "    }\n",
       "\n",
       "    .dataframe tbody tr th {\n",
       "        vertical-align: top;\n",
       "    }\n",
       "\n",
       "    .dataframe thead th {\n",
       "        text-align: right;\n",
       "    }\n",
       "</style>\n",
       "<table border=\"1\" class=\"dataframe\">\n",
       "  <thead>\n",
       "    <tr style=\"text-align: right;\">\n",
       "      <th></th>\n",
       "      <th>exm-rs10179126-131_B_R_1990477727</th>\n",
       "      <th>exm2267945-0_T_F_1984847470</th>\n",
       "      <th>exm908706-0_T_R_1918250194</th>\n",
       "      <th>exm541797-0_T_R_1921926070</th>\n",
       "      <th>exm1600069-0_T_F_1919091863</th>\n",
       "      <th>exm1528175-0_T_R_1922656384</th>\n",
       "      <th>exm1601430-0_T_F_1919054405</th>\n",
       "      <th>exm-rs1452928-131_T_R_1990488694</th>\n",
       "      <th>exm887511-0_T_R_1918307449</th>\n",
       "      <th>exm2273223-0_T_R_1984849553</th>\n",
       "      <th>...</th>\n",
       "      <th>exm-rs6922632-131_T_F_1990493482</th>\n",
       "      <th>exm521580-0_T_F_1921927939</th>\n",
       "      <th>exm566081-0_T_F_1921875319</th>\n",
       "      <th>exm576964-0_T_R_1921966650</th>\n",
       "      <th>exm525052-0_T_R_1921990652</th>\n",
       "      <th>exm-rs3873352-131_B_R_2060121648</th>\n",
       "      <th>exm-rs2294472-131_T_R_1990490206</th>\n",
       "      <th>exm-rs210132-131_T_R_1990489840</th>\n",
       "      <th>exm554285-0_T_F_1921896077</th>\n",
       "      <th>Smoking_status</th>\n",
       "    </tr>\n",
       "  </thead>\n",
       "  <tbody>\n",
       "    <tr>\n",
       "      <th>0</th>\n",
       "      <td>0</td>\n",
       "      <td>0</td>\n",
       "      <td>2</td>\n",
       "      <td>0</td>\n",
       "      <td>1</td>\n",
       "      <td>0</td>\n",
       "      <td>1</td>\n",
       "      <td>2</td>\n",
       "      <td>2</td>\n",
       "      <td>2</td>\n",
       "      <td>...</td>\n",
       "      <td>2</td>\n",
       "      <td>2</td>\n",
       "      <td>0</td>\n",
       "      <td>2</td>\n",
       "      <td>0</td>\n",
       "      <td>0</td>\n",
       "      <td>0</td>\n",
       "      <td>2</td>\n",
       "      <td>2</td>\n",
       "      <td>0</td>\n",
       "    </tr>\n",
       "    <tr>\n",
       "      <th>1</th>\n",
       "      <td>1</td>\n",
       "      <td>2</td>\n",
       "      <td>2</td>\n",
       "      <td>0</td>\n",
       "      <td>1</td>\n",
       "      <td>0</td>\n",
       "      <td>2</td>\n",
       "      <td>2</td>\n",
       "      <td>2</td>\n",
       "      <td>2</td>\n",
       "      <td>...</td>\n",
       "      <td>2</td>\n",
       "      <td>2</td>\n",
       "      <td>0</td>\n",
       "      <td>2</td>\n",
       "      <td>2</td>\n",
       "      <td>0</td>\n",
       "      <td>0</td>\n",
       "      <td>1</td>\n",
       "      <td>2</td>\n",
       "      <td>1</td>\n",
       "    </tr>\n",
       "    <tr>\n",
       "      <th>2</th>\n",
       "      <td>1</td>\n",
       "      <td>0</td>\n",
       "      <td>2</td>\n",
       "      <td>0</td>\n",
       "      <td>0</td>\n",
       "      <td>0</td>\n",
       "      <td>2</td>\n",
       "      <td>2</td>\n",
       "      <td>2</td>\n",
       "      <td>2</td>\n",
       "      <td>...</td>\n",
       "      <td>2</td>\n",
       "      <td>2</td>\n",
       "      <td>0</td>\n",
       "      <td>2</td>\n",
       "      <td>2</td>\n",
       "      <td>0</td>\n",
       "      <td>2</td>\n",
       "      <td>0</td>\n",
       "      <td>2</td>\n",
       "      <td>1</td>\n",
       "    </tr>\n",
       "    <tr>\n",
       "      <th>3</th>\n",
       "      <td>0</td>\n",
       "      <td>1</td>\n",
       "      <td>2</td>\n",
       "      <td>0</td>\n",
       "      <td>0</td>\n",
       "      <td>1</td>\n",
       "      <td>2</td>\n",
       "      <td>2</td>\n",
       "      <td>2</td>\n",
       "      <td>1</td>\n",
       "      <td>...</td>\n",
       "      <td>2</td>\n",
       "      <td>2</td>\n",
       "      <td>0</td>\n",
       "      <td>2</td>\n",
       "      <td>1</td>\n",
       "      <td>0</td>\n",
       "      <td>1</td>\n",
       "      <td>2</td>\n",
       "      <td>2</td>\n",
       "      <td>0</td>\n",
       "    </tr>\n",
       "    <tr>\n",
       "      <th>4</th>\n",
       "      <td>0</td>\n",
       "      <td>2</td>\n",
       "      <td>2</td>\n",
       "      <td>0</td>\n",
       "      <td>0</td>\n",
       "      <td>0</td>\n",
       "      <td>2</td>\n",
       "      <td>2</td>\n",
       "      <td>2</td>\n",
       "      <td>2</td>\n",
       "      <td>...</td>\n",
       "      <td>1</td>\n",
       "      <td>2</td>\n",
       "      <td>0</td>\n",
       "      <td>2</td>\n",
       "      <td>0</td>\n",
       "      <td>1</td>\n",
       "      <td>0</td>\n",
       "      <td>2</td>\n",
       "      <td>2</td>\n",
       "      <td>1</td>\n",
       "    </tr>\n",
       "  </tbody>\n",
       "</table>\n",
       "<p>5 rows × 101 columns</p>\n",
       "</div>"
      ],
      "text/plain": [
       "   exm-rs10179126-131_B_R_1990477727  exm2267945-0_T_F_1984847470  \\\n",
       "0                                  0                            0   \n",
       "1                                  1                            2   \n",
       "2                                  1                            0   \n",
       "3                                  0                            1   \n",
       "4                                  0                            2   \n",
       "\n",
       "   exm908706-0_T_R_1918250194  exm541797-0_T_R_1921926070  \\\n",
       "0                           2                           0   \n",
       "1                           2                           0   \n",
       "2                           2                           0   \n",
       "3                           2                           0   \n",
       "4                           2                           0   \n",
       "\n",
       "   exm1600069-0_T_F_1919091863  exm1528175-0_T_R_1922656384  \\\n",
       "0                            1                            0   \n",
       "1                            1                            0   \n",
       "2                            0                            0   \n",
       "3                            0                            1   \n",
       "4                            0                            0   \n",
       "\n",
       "   exm1601430-0_T_F_1919054405  exm-rs1452928-131_T_R_1990488694  \\\n",
       "0                            1                                 2   \n",
       "1                            2                                 2   \n",
       "2                            2                                 2   \n",
       "3                            2                                 2   \n",
       "4                            2                                 2   \n",
       "\n",
       "   exm887511-0_T_R_1918307449  exm2273223-0_T_R_1984849553  ...  \\\n",
       "0                           2                            2  ...   \n",
       "1                           2                            2  ...   \n",
       "2                           2                            2  ...   \n",
       "3                           2                            1  ...   \n",
       "4                           2                            2  ...   \n",
       "\n",
       "   exm-rs6922632-131_T_F_1990493482  exm521580-0_T_F_1921927939  \\\n",
       "0                                 2                           2   \n",
       "1                                 2                           2   \n",
       "2                                 2                           2   \n",
       "3                                 2                           2   \n",
       "4                                 1                           2   \n",
       "\n",
       "   exm566081-0_T_F_1921875319  exm576964-0_T_R_1921966650  \\\n",
       "0                           0                           2   \n",
       "1                           0                           2   \n",
       "2                           0                           2   \n",
       "3                           0                           2   \n",
       "4                           0                           2   \n",
       "\n",
       "   exm525052-0_T_R_1921990652  exm-rs3873352-131_B_R_2060121648  \\\n",
       "0                           0                                 0   \n",
       "1                           2                                 0   \n",
       "2                           2                                 0   \n",
       "3                           1                                 0   \n",
       "4                           0                                 1   \n",
       "\n",
       "   exm-rs2294472-131_T_R_1990490206  exm-rs210132-131_T_R_1990489840  \\\n",
       "0                                 0                                2   \n",
       "1                                 0                                1   \n",
       "2                                 2                                0   \n",
       "3                                 1                                2   \n",
       "4                                 0                                2   \n",
       "\n",
       "   exm554285-0_T_F_1921896077  Smoking_status  \n",
       "0                           2               0  \n",
       "1                           2               1  \n",
       "2                           2               1  \n",
       "3                           2               0  \n",
       "4                           2               1  \n",
       "\n",
       "[5 rows x 101 columns]"
      ]
     },
     "execution_count": 43,
     "metadata": {},
     "output_type": "execute_result"
    }
   ],
   "source": [
    "joined_data_B.head()"
   ]
  },
  {
   "cell_type": "code",
   "execution_count": 44,
   "metadata": {},
   "outputs": [],
   "source": [
    "scaler = StandardScaler()\n",
    "scaled_features = scaler.fit_transform(joined_data_B.iloc[:, 1:-1])\n",
    "\n",
    "labels=joined_data_B.iloc[:, -1]\n",
    "\n",
    "# Diviser les données en ensembles d'entraînement et de test\n",
    "train_features, test_features, train_labels, test_labels = train_test_split(scaled_features, labels, test_size=0.2, random_state=42)"
   ]
  },
  {
   "cell_type": "code",
   "execution_count": 45,
   "metadata": {},
   "outputs": [
    {
     "name": "stdout",
     "output_type": "stream",
     "text": [
      "Accuracy Boosting: 0.4647058823529412\n"
     ]
    }
   ],
   "source": [
    "# Initialisation du AdaBoostClassifier\n",
    "boosting_model = AdaBoostClassifier(\n",
    "    base_estimator=None,  # Vous pouvez spécifier un modèle de base si nécessaire\n",
    "    n_estimators=50,  # Nombre d'estimateurs (modèles) à entraîner\n",
    "    random_state=42  # Réglez la graine aléatoire pour la reproductibilité\n",
    ")\n",
    "\n",
    "# Entraîner le modèle AdaBoost avec les modèles individuels\n",
    "boosting_model.fit(train_features, train_labels)\n",
    "\n",
    "# Faire des prédictions sur l'ensemble de test\n",
    "predictions = boosting_model.predict(test_features)\n",
    "\n",
    "# Évaluer les performances du modèle\n",
    "accuracy = accuracy_score(test_labels, predictions)\n",
    "print(\"Accuracy Boosting:\", accuracy)"
   ]
  },
  {
   "cell_type": "code",
   "execution_count": 46,
   "metadata": {},
   "outputs": [
    {
     "name": "stdout",
     "output_type": "stream",
     "text": [
      "Precision Boosting: 0.3095570045924656\n"
     ]
    },
    {
     "name": "stderr",
     "output_type": "stream",
     "text": [
      "/home/legrand/.local/lib/python3.10/site-packages/sklearn/metrics/_classification.py:1334: UndefinedMetricWarning: Precision is ill-defined and being set to 0.0 in labels with no predicted samples. Use `zero_division` parameter to control this behavior.\n",
      "  _warn_prf(average, modifier, msg_start, len(result))\n"
     ]
    }
   ],
   "source": [
    "# Calculer la précision\n",
    "precision_Boosting = precision_score(test_labels, predictions, average='macro')\n",
    "print(\"Precision Boosting:\", precision_Boosting)"
   ]
  },
  {
   "cell_type": "code",
   "execution_count": 47,
   "metadata": {},
   "outputs": [
    {
     "name": "stdout",
     "output_type": "stream",
     "text": [
      "Recall Boosting: 0.3100354689950066\n"
     ]
    }
   ],
   "source": [
    "# Calculer le rappel\n",
    "recall_Boosting = recall_score(test_labels, predictions, average='macro')\n",
    "print(\"Recall Boosting:\", recall_Boosting)"
   ]
  },
  {
   "cell_type": "code",
   "execution_count": 48,
   "metadata": {},
   "outputs": [
    {
     "name": "stdout",
     "output_type": "stream",
     "text": [
      "F1-Score Boosting: 0.3097825380244206\n"
     ]
    }
   ],
   "source": [
    "# Calculer le F1-score\n",
    "f1_Boosting = f1_score(test_labels, predictions, average='macro')\n",
    "print(\"F1-Score Boosting:\", f1_Boosting)"
   ]
  },
  {
   "cell_type": "markdown",
   "metadata": {},
   "source": [
    "# Area Under the Curve (AUC)"
   ]
  },
  {
   "cell_type": "code",
   "execution_count": 32,
   "metadata": {},
   "outputs": [],
   "source": [
    "import matplotlib.pyplot as plt\n",
    "from sklearn.metrics import roc_auc_score, roc_curve, auc\n",
    "from sklearn.svm import SVC\n",
    "from sklearn.linear_model import LogisticRegression\n",
    "from sklearn.tree import DecisionTreeClassifier\n",
    "from sklearn.ensemble import RandomForestClassifier, AdaBoostClassifier, VotingClassifier\n",
    "from sklearn.model_selection import train_test_split\n",
    "from sklearn.preprocessing import StandardScaler\n",
    "from sklearn.preprocessing import label_binarize\n",
    "from itertools import cycle\n",
    "\n",
    "# Supposons que joined_data est déjà défini et contient vos données\n",
    "labels = joined_data.iloc[:, -1]\n",
    "scaled_features = joined_data.iloc[:, 1:-1]\n",
    "\n",
    "# Diviser les données en ensembles d'entraînement et de test\n",
    "X_train, X_test, y_train, y_test = train_test_split(scaled_features, labels, test_size=0.2, random_state=42)\n",
    "\n",
    "# Créer et entraîner vos modèles\n",
    "svm_model = SVC(probability=True, random_state=42)\n",
    "logistic_model = LogisticRegression(random_state=42)\n",
    "tree_model = DecisionTreeClassifier(random_state=42)\n",
    "forest_model = RandomForestClassifier(random_state=42)\n",
    "adaboost_model = AdaBoostClassifier(random_state=42)\n",
    "voting_model = VotingClassifier(estimators=[('lr', logistic_model), ('rf', forest_model), ('svc', svm_model)], voting='soft')\n",
    "\n",
    "models = [svm_model, logistic_model, tree_model, forest_model, adaboost_model, voting_model]\n",
    "model_names = ['SVM', 'Logistic Regression', 'Decision Tree', 'Random Forest', 'AdaBoost', 'Voting']\n",
    "\n",
    "# Binarisez les étiquettes en fonction de vos trois classes (0, 1 et -1)\n",
    "n_classes = 3  # Nombre de classes (0, 1 et -1)\n",
    "y_test_bin = label_binarize(y_test, classes=[0, 1, -1])\n",
    "\n",
    "\n",
    "# Créez une liste pour stocker les AUC de chaque modèle\n",
    "auc_scores = []\n",
    "\n",
    "# Créez des dictionnaires pour stocker les résultats par classe\n",
    "fpr = {}\n",
    "tpr = {}\n",
    "roc_auc = {}"
   ]
  },
  {
   "cell_type": "code",
   "execution_count": 33,
   "metadata": {},
   "outputs": [
    {
     "name": "stderr",
     "output_type": "stream",
     "text": [
      "/home/legrand/.local/lib/python3.10/site-packages/sklearn/linear_model/_logistic.py:444: ConvergenceWarning: lbfgs failed to converge (status=1):\n",
      "STOP: TOTAL NO. of ITERATIONS REACHED LIMIT.\n",
      "\n",
      "Increase the number of iterations (max_iter) or scale the data as shown in:\n",
      "    https://scikit-learn.org/stable/modules/preprocessing.html\n",
      "Please also refer to the documentation for alternative solver options:\n",
      "    https://scikit-learn.org/stable/modules/linear_model.html#logistic-regression\n",
      "  n_iter_i = _check_optimize_result(\n",
      "/home/legrand/.local/lib/python3.10/site-packages/sklearn/linear_model/_logistic.py:444: ConvergenceWarning: lbfgs failed to converge (status=1):\n",
      "STOP: TOTAL NO. of ITERATIONS REACHED LIMIT.\n",
      "\n",
      "Increase the number of iterations (max_iter) or scale the data as shown in:\n",
      "    https://scikit-learn.org/stable/modules/preprocessing.html\n",
      "Please also refer to the documentation for alternative solver options:\n",
      "    https://scikit-learn.org/stable/modules/linear_model.html#logistic-regression\n",
      "  n_iter_i = _check_optimize_result(\n"
     ]
    }
   ],
   "source": [
    "# Calculer l'AUC pour chaque modèle et chaque classe\n",
    "for i, model in enumerate(models):\n",
    "    model.fit(X_train, y_train)\n",
    "    y_pred_prob = model.predict_proba(X_test)\n",
    "    for j in range(n_classes):\n",
    "        fpr[j], tpr[j], _ = roc_curve(y_test_bin[:, j], y_pred_prob[:, j])\n",
    "        roc_auc[j] = auc(fpr[j], tpr[j])\n",
    "    auc_scores.append(roc_auc)"
   ]
  },
  {
   "cell_type": "code",
   "execution_count": 34,
   "metadata": {},
   "outputs": [
    {
     "data": {
      "image/png": "[encoded data removed]",
      "text/plain": [
       "<Figure size 1200x800 with 1 Axes>"
      ]
     },
     "metadata": {},
     "output_type": "display_data"
    }
   ],
   "source": [
    "# Tracer les courbes ROC pour chaque classe\n",
    "plt.figure(figsize=(12, 8))\n",
    "colors = cycle(['b', 'g', 'r', 'c', 'm', 'y'])\n",
    "for i in range(n_classes):\n",
    "    plt.plot(fpr[i], tpr[i], color=next(colors), lw=2, label=f'Class {i} (AUC = {roc_auc[i]:.2f})')\n",
    "\n",
    "plt.plot([0, 1], [0, 1], 'k--', lw=2)\n",
    "plt.xlim([0.0, 1.0])\n",
    "plt.ylim([0.0, 1.05])\n",
    "plt.xlabel('Taux de faux positifs')\n",
    "plt.ylabel('Taux de vrais positifs')\n",
    "plt.title('Courbes ROC multiclasse')\n",
    "plt.legend(loc=\"lower right\")\n",
    "plt.show()"
   ]
  },
  {
   "cell_type": "markdown",
   "metadata": {},
   "source": [
    "## SVM LASSO (Article Xu)"
   ]
  },
  {
   "cell_type": "code",
   "execution_count": 57,
   "metadata": {},
   "outputs": [
    {
     "name": "stdout",
     "output_type": "stream",
     "text": [
      "Accuracy of SVM Logistic train:  1.0\n",
      "Accuracy of the LASSO train:  0.5128205128205128\n",
      "Accuracy of the SVM logistic test:  0.6352941176470588\n",
      "Accuracy of LASSO test:  0.5235294117647059\n",
      "Accuracy of SVM logistic independant test 0.6196078431372549\n",
      "Accuracy of LASSO independant test:  0.49607843137254903\n"
     ]
    }
   ],
   "source": [
    "# Step 1: Load and preprocess your dataset (replace this with your data loading code)\n",
    "# X and y represent the features and the target variable, respectively.\n",
    "\n",
    "# Step 2: Split the data into training, test, and independent test sets\n",
    "X_train, X_temp, y_train, y_temp = train_test_split(scaled_features, labels, test_size=0.3, random_state=42)\n",
    "X_test, X_independent, y_test, y_independent = train_test_split(X_temp, y_temp, test_size=0.5, random_state=42)\n",
    "\n",
    "# Step 3: Train the SVM models with logistic regression and LASSO regression\n",
    "# SVM with logistic regression\n",
    "svm_logistic = svm.SVC(kernel='linear', probability=True)\n",
    "svm_logistic.fit(X_train, y_train)\n",
    "\n",
    "# LASSO regression (L1 regularization)\n",
    "# Create a logistic regression model with L1 regularization (LASSO)\n",
    "lasso_model = LogisticRegression(penalty='l1', C=0.001, solver='liblinear')  # or 'saga'\n",
    "lasso_model.fit(X_train, y_train)\n",
    "\n",
    "# Step 4: Evaluate the models\n",
    "# Training set\n",
    "svm_logistic_train_predictions = svm_logistic.predict(X_train)\n",
    "lasso_train_predictions = lasso_model.predict(X_train)\n",
    "\n",
    "# Test set\n",
    "svm_logistic_test_predictions = svm_logistic.predict(X_test)\n",
    "lasso_test_predictions = lasso_model.predict(X_test)\n",
    "\n",
    "# Independent test set\n",
    "svm_logistic_independent_predictions = svm_logistic.predict(X_independent)\n",
    "lasso_independent_predictions = lasso_model.predict(X_independent)\n",
    "\n",
    "# You can use accuracy_score or other appropriate metrics for evaluation\n",
    "svm_logistic_train_accuracy = accuracy_score(y_train, svm_logistic_train_predictions)\n",
    "print(\"Accuracy of SVM Logistic train: \", svm_logistic_train_accuracy)\n",
    "lasso_train_accuracy = accuracy_score(y_train, lasso_train_predictions)\n",
    "print(\"Accuracy of the LASSO train: \", lasso_train_accuracy)\n",
    "\n",
    "svm_logistic_test_accuracy = accuracy_score(y_test, svm_logistic_test_predictions)\n",
    "print(\"Accuracy of the SVM logistic test: \", svm_logistic_test_accuracy)\n",
    "lasso_test_accuracy = accuracy_score(y_test, lasso_test_predictions)\n",
    "print(\"Accuracy of LASSO test: \", lasso_test_accuracy)\n",
    "\n",
    "svm_logistic_independent_accuracy = accuracy_score(y_independent, svm_logistic_independent_predictions)\n",
    "print(\"Accuracy of SVM logistic independant test\", svm_logistic_independent_accuracy)\n",
    "lasso_independent_accuracy = accuracy_score(y_independent, lasso_independent_predictions)\n",
    "print(\"Accuracy of LASSO independant test: \", lasso_independent_accuracy)\n",
    "# Now you can compare and analyze the predictive performance of the models."
   ]
  },
  {
   "cell_type": "markdown",
   "metadata": {},
   "source": [
    "# k-Cross Fold Validation"
   ]
  },
  {
   "cell_type": "markdown",
   "metadata": {},
   "source": [
    "## SVM"
   ]
  },
  {
   "cell_type": "markdown",
   "metadata": {},
   "source": [
    "### 5-Cross fold validation"
   ]
  },
  {
   "cell_type": "code",
   "execution_count": 54,
   "metadata": {},
   "outputs": [],
   "source": [
    "from sklearn.model_selection import cross_val_score\n",
    "from sklearn.model_selection import KFold"
   ]
  },
  {
   "cell_type": "code",
   "execution_count": 58,
   "metadata": {},
   "outputs": [],
   "source": [
    "model = svm.SVC(probability=True, random_state=42)"
   ]
  },
  {
   "cell_type": "code",
   "execution_count": 52,
   "metadata": {},
   "outputs": [],
   "source": [
    "kf = KFold(n_splits=5, shuffle=True, random_state=42)"
   ]
  },
  {
   "cell_type": "code",
   "execution_count": 54,
   "metadata": {},
   "outputs": [],
   "source": [
    "scores = cross_val_score(model, train_features, train_labels, cv=kf, scoring='accuracy')"
   ]
  },
  {
   "cell_type": "code",
   "execution_count": 55,
   "metadata": {},
   "outputs": [
    {
     "name": "stdout",
     "output_type": "stream",
     "text": [
      "Mean Accuracy: 0.73\n",
      "Standard Deviation: 0.03\n"
     ]
    }
   ],
   "source": [
    "mean_accuracy = scores.mean()\n",
    "std_accuracy = scores.std()\n",
    "print(f'Mean Accuracy: {mean_accuracy:.2f}')\n",
    "print(f'Standard Deviation: {std_accuracy:.2f}')"
   ]
  },
  {
   "cell_type": "markdown",
   "metadata": {},
   "source": [
    "### 10-Cross fold Validation"
   ]
  },
  {
   "cell_type": "code",
   "execution_count": 52,
   "metadata": {},
   "outputs": [],
   "source": [
    "kf = KFold(n_splits=10, shuffle=True, random_state=42)"
   ]
  },
  {
   "cell_type": "code",
   "execution_count": 55,
   "metadata": {},
   "outputs": [],
   "source": [
    "scores = cross_val_score(model, train_features, train_labels, cv=kf, scoring='accuracy')"
   ]
  },
  {
   "cell_type": "code",
   "execution_count": 56,
   "metadata": {},
   "outputs": [
    {
     "name": "stdout",
     "output_type": "stream",
     "text": [
      "Mean Accuracy: 0.75\n",
      "Standard Deviation: 0.02\n"
     ]
    }
   ],
   "source": [
    "mean_accuracy = scores.mean()\n",
    "std_accuracy = scores.std()\n",
    "print(f'Mean Accuracy: {mean_accuracy:.2f}')\n",
    "print(f'Standard Deviation: {std_accuracy:.2f}')"
   ]
  },
  {
   "cell_type": "code",
   "execution_count": 57,
   "metadata": {},
   "outputs": [
    {
     "name": "stderr",
     "output_type": "stream",
     "text": [
      "/home/legrand/.local/lib/python3.10/site-packages/sklearn/model_selection/_validation.py:776: UserWarning: Scoring failed. The score on this train-test partition for these parameters will be set to nan. Details: \n",
      "Traceback (most recent call last):\n",
      "  File \"/home/legrand/.local/lib/python3.10/site-packages/sklearn/model_selection/_validation.py\", line 767, in _score\n",
      "    scores = scorer(estimator, X_test, y_test)\n",
      "  File \"/home/legrand/.local/lib/python3.10/site-packages/sklearn/metrics/_scorer.py\", line 106, in __call__\n",
      "    score = scorer._score(cached_call, estimator, *args, **kwargs)\n",
      "  File \"/home/legrand/.local/lib/python3.10/site-packages/sklearn/metrics/_scorer.py\", line 267, in _score\n",
      "    return self._sign * self._score_func(y_true, y_pred, **self._kwargs)\n",
      "  File \"/home/legrand/.local/lib/python3.10/site-packages/sklearn/metrics/_classification.py\", line 1776, in precision_score\n",
      "    p, _, _, _ = precision_recall_fscore_support(\n",
      "  File \"/home/legrand/.local/lib/python3.10/site-packages/sklearn/metrics/_classification.py\", line 1563, in precision_recall_fscore_support\n",
      "    labels = _check_set_wise_labels(y_true, y_pred, average, labels, pos_label)\n",
      "  File \"/home/legrand/.local/lib/python3.10/site-packages/sklearn/metrics/_classification.py\", line 1381, in _check_set_wise_labels\n",
      "    raise ValueError(\n",
      "ValueError: Target is multiclass but average='binary'. Please choose another average setting, one of [None, 'micro', 'macro', 'weighted'].\n",
      "\n",
      "  warnings.warn(\n",
      "/home/legrand/.local/lib/python3.10/site-packages/sklearn/model_selection/_validation.py:776: UserWarning: Scoring failed. The score on this train-test partition for these parameters will be set to nan. Details: \n",
      "Traceback (most recent call last):\n",
      "  File \"/home/legrand/.local/lib/python3.10/site-packages/sklearn/model_selection/_validation.py\", line 767, in _score\n",
      "    scores = scorer(estimator, X_test, y_test)\n",
      "  File \"/home/legrand/.local/lib/python3.10/site-packages/sklearn/metrics/_scorer.py\", line 106, in __call__\n",
      "    score = scorer._score(cached_call, estimator, *args, **kwargs)\n",
      "  File \"/home/legrand/.local/lib/python3.10/site-packages/sklearn/metrics/_scorer.py\", line 267, in _score\n",
      "    return self._sign * self._score_func(y_true, y_pred, **self._kwargs)\n",
      "  File \"/home/legrand/.local/lib/python3.10/site-packages/sklearn/metrics/_classification.py\", line 1776, in precision_score\n",
      "    p, _, _, _ = precision_recall_fscore_support(\n",
      "  File \"/home/legrand/.local/lib/python3.10/site-packages/sklearn/metrics/_classification.py\", line 1563, in precision_recall_fscore_support\n",
      "    labels = _check_set_wise_labels(y_true, y_pred, average, labels, pos_label)\n",
      "  File \"/home/legrand/.local/lib/python3.10/site-packages/sklearn/metrics/_classification.py\", line 1381, in _check_set_wise_labels\n",
      "    raise ValueError(\n",
      "ValueError: Target is multiclass but average='binary'. Please choose another average setting, one of [None, 'micro', 'macro', 'weighted'].\n",
      "\n",
      "  warnings.warn(\n",
      "/home/legrand/.local/lib/python3.10/site-packages/sklearn/model_selection/_validation.py:776: UserWarning: Scoring failed. The score on this train-test partition for these parameters will be set to nan. Details: \n",
      "Traceback (most recent call last):\n",
      "  File \"/home/legrand/.local/lib/python3.10/site-packages/sklearn/model_selection/_validation.py\", line 767, in _score\n",
      "    scores = scorer(estimator, X_test, y_test)\n",
      "  File \"/home/legrand/.local/lib/python3.10/site-packages/sklearn/metrics/_scorer.py\", line 106, in __call__\n",
      "    score = scorer._score(cached_call, estimator, *args, **kwargs)\n",
      "  File \"/home/legrand/.local/lib/python3.10/site-packages/sklearn/metrics/_scorer.py\", line 267, in _score\n",
      "    return self._sign * self._score_func(y_true, y_pred, **self._kwargs)\n",
      "  File \"/home/legrand/.local/lib/python3.10/site-packages/sklearn/metrics/_classification.py\", line 1920, in recall_score\n",
      "    _, r, _, _ = precision_recall_fscore_support(\n",
      "  File \"/home/legrand/.local/lib/python3.10/site-packages/sklearn/metrics/_classification.py\", line 1563, in precision_recall_fscore_support\n",
      "    labels = _check_set_wise_labels(y_true, y_pred, average, labels, pos_label)\n",
      "  File \"/home/legrand/.local/lib/python3.10/site-packages/sklearn/metrics/_classification.py\", line 1381, in _check_set_wise_labels\n",
      "    raise ValueError(\n",
      "ValueError: Target is multiclass but average='binary'. Please choose another average setting, one of [None, 'micro', 'macro', 'weighted'].\n",
      "\n",
      "  warnings.warn(\n",
      "/home/legrand/.local/lib/python3.10/site-packages/sklearn/model_selection/_validation.py:776: UserWarning: Scoring failed. The score on this train-test partition for these parameters will be set to nan. Details: \n",
      "Traceback (most recent call last):\n",
      "  File \"/home/legrand/.local/lib/python3.10/site-packages/sklearn/model_selection/_validation.py\", line 767, in _score\n",
      "    scores = scorer(estimator, X_test, y_test)\n",
      "  File \"/home/legrand/.local/lib/python3.10/site-packages/sklearn/metrics/_scorer.py\", line 106, in __call__\n",
      "    score = scorer._score(cached_call, estimator, *args, **kwargs)\n",
      "  File \"/home/legrand/.local/lib/python3.10/site-packages/sklearn/metrics/_scorer.py\", line 267, in _score\n",
      "    return self._sign * self._score_func(y_true, y_pred, **self._kwargs)\n",
      "  File \"/home/legrand/.local/lib/python3.10/site-packages/sklearn/metrics/_classification.py\", line 1920, in recall_score\n",
      "    _, r, _, _ = precision_recall_fscore_support(\n",
      "  File \"/home/legrand/.local/lib/python3.10/site-packages/sklearn/metrics/_classification.py\", line 1563, in precision_recall_fscore_support\n",
      "    labels = _check_set_wise_labels(y_true, y_pred, average, labels, pos_label)\n",
      "  File \"/home/legrand/.local/lib/python3.10/site-packages/sklearn/metrics/_classification.py\", line 1381, in _check_set_wise_labels\n",
      "    raise ValueError(\n",
      "ValueError: Target is multiclass but average='binary'. Please choose another average setting, one of [None, 'micro', 'macro', 'weighted'].\n",
      "\n",
      "  warnings.warn(\n",
      "/home/legrand/.local/lib/python3.10/site-packages/sklearn/model_selection/_validation.py:776: UserWarning: Scoring failed. The score on this train-test partition for these parameters will be set to nan. Details: \n",
      "Traceback (most recent call last):\n",
      "  File \"/home/legrand/.local/lib/python3.10/site-packages/sklearn/model_selection/_validation.py\", line 767, in _score\n",
      "    scores = scorer(estimator, X_test, y_test)\n",
      "  File \"/home/legrand/.local/lib/python3.10/site-packages/sklearn/metrics/_scorer.py\", line 106, in __call__\n",
      "    score = scorer._score(cached_call, estimator, *args, **kwargs)\n",
      "  File \"/home/legrand/.local/lib/python3.10/site-packages/sklearn/metrics/_scorer.py\", line 267, in _score\n",
      "    return self._sign * self._score_func(y_true, y_pred, **self._kwargs)\n",
      "  File \"/home/legrand/.local/lib/python3.10/site-packages/sklearn/metrics/_classification.py\", line 1136, in f1_score\n",
      "    return fbeta_score(\n",
      "  File \"/home/legrand/.local/lib/python3.10/site-packages/sklearn/metrics/_classification.py\", line 1277, in fbeta_score\n",
      "    _, _, f, _ = precision_recall_fscore_support(\n",
      "  File \"/home/legrand/.local/lib/python3.10/site-packages/sklearn/metrics/_classification.py\", line 1563, in precision_recall_fscore_support\n",
      "    labels = _check_set_wise_labels(y_true, y_pred, average, labels, pos_label)\n",
      "  File \"/home/legrand/.local/lib/python3.10/site-packages/sklearn/metrics/_classification.py\", line 1381, in _check_set_wise_labels\n",
      "    raise ValueError(\n",
      "ValueError: Target is multiclass but average='binary'. Please choose another average setting, one of [None, 'micro', 'macro', 'weighted'].\n",
      "\n",
      "  warnings.warn(\n",
      "/home/legrand/.local/lib/python3.10/site-packages/sklearn/model_selection/_validation.py:776: UserWarning: Scoring failed. The score on this train-test partition for these parameters will be set to nan. Details: \n",
      "Traceback (most recent call last):\n",
      "  File \"/home/legrand/.local/lib/python3.10/site-packages/sklearn/model_selection/_validation.py\", line 767, in _score\n",
      "    scores = scorer(estimator, X_test, y_test)\n",
      "  File \"/home/legrand/.local/lib/python3.10/site-packages/sklearn/metrics/_scorer.py\", line 106, in __call__\n",
      "    score = scorer._score(cached_call, estimator, *args, **kwargs)\n",
      "  File \"/home/legrand/.local/lib/python3.10/site-packages/sklearn/metrics/_scorer.py\", line 267, in _score\n",
      "    return self._sign * self._score_func(y_true, y_pred, **self._kwargs)\n",
      "  File \"/home/legrand/.local/lib/python3.10/site-packages/sklearn/metrics/_classification.py\", line 1136, in f1_score\n",
      "    return fbeta_score(\n",
      "  File \"/home/legrand/.local/lib/python3.10/site-packages/sklearn/metrics/_classification.py\", line 1277, in fbeta_score\n",
      "    _, _, f, _ = precision_recall_fscore_support(\n",
      "  File \"/home/legrand/.local/lib/python3.10/site-packages/sklearn/metrics/_classification.py\", line 1563, in precision_recall_fscore_support\n",
      "    labels = _check_set_wise_labels(y_true, y_pred, average, labels, pos_label)\n",
      "  File \"/home/legrand/.local/lib/python3.10/site-packages/sklearn/metrics/_classification.py\", line 1381, in _check_set_wise_labels\n",
      "    raise ValueError(\n",
      "ValueError: Target is multiclass but average='binary'. Please choose another average setting, one of [None, 'micro', 'macro', 'weighted'].\n",
      "\n",
      "  warnings.warn(\n"
     ]
    },
    {
     "name": "stdout",
     "output_type": "stream",
     "text": [
      "Mean Precision: nan\n",
      "Standard Deviation (Precision): nan\n",
      "Mean Recall: nan\n",
      "Standard Deviation (Recall): nan\n",
      "Mean F1-score: nan\n",
      "Standard Deviation (F1-score): nan\n"
     ]
    }
   ],
   "source": [
    "precision_scores = cross_val_score(model, train_features, train_labels, cv=kf, scoring='precision')\n",
    "recall_scores = cross_val_score(model, train_features, train_labels, cv=kf, scoring='recall')\n",
    "f1_scores = cross_val_score(model, train_features, train_labels, cv=kf, scoring='f1')\n",
    "\n",
    "print(f'Mean Precision: {precision_scores.mean():.2f}')\n",
    "print(f'Standard Deviation (Precision): {precision_scores.std():.2f}')\n",
    "\n",
    "print(f'Mean Recall: {recall_scores.mean():.2f}')\n",
    "print(f'Standard Deviation (Recall): {recall_scores.std():.2f}')\n",
    "\n",
    "print(f'Mean F1-score: {f1_scores.mean():.2f}')\n",
    "print(f'Standard Deviation (F1-score): {f1_scores.std():.2f}')"
   ]
  },
  {
   "cell_type": "markdown",
   "metadata": {},
   "source": [
    "### Affichage de l'AUC en fonction des features"
   ]
  },
  {
   "cell_type": "code",
   "execution_count": 45,
   "metadata": {},
   "outputs": [],
   "source": [
    "# Supprimer les lignes où la dernière colonne est égale à -1\n",
    "df = joined_data[joined_data.iloc[:, -1] != -1]"
   ]
  },
  {
   "cell_type": "code",
   "execution_count": 46,
   "metadata": {},
   "outputs": [
    {
     "data": {
      "text/html": [
       "<div>\n",
       "<style scoped>\n",
       "    .dataframe tbody tr th:only-of-type {\n",
       "        vertical-align: middle;\n",
       "    }\n",
       "\n",
       "    .dataframe tbody tr th {\n",
       "        vertical-align: top;\n",
       "    }\n",
       "\n",
       "    .dataframe thead th {\n",
       "        text-align: right;\n",
       "    }\n",
       "</style>\n",
       "<table border=\"1\" class=\"dataframe\">\n",
       "  <thead>\n",
       "    <tr style=\"text-align: right;\">\n",
       "      <th></th>\n",
       "      <th>ID</th>\n",
       "      <th>exm3350-0_T_F_1921558625</th>\n",
       "      <th>exm-rs12025416-131_T_R_1990487911</th>\n",
       "      <th>exm21233-0_T_R_1921451944</th>\n",
       "      <th>exm2249550-0_T_F_1975242973</th>\n",
       "      <th>exm20133-0_T_R_1921577924</th>\n",
       "      <th>exm60054-0_T_R_1921456966</th>\n",
       "      <th>exm47882-0_T_R_1921419474</th>\n",
       "      <th>exm77508-0_T_R_1921386830</th>\n",
       "      <th>exm90300-0_B_F_1921357425</th>\n",
       "      <th>...</th>\n",
       "      <th>exm1633648-0_B_F_1922079779</th>\n",
       "      <th>exm1633532-0_T_R_1922080432</th>\n",
       "      <th>exm2263054-0_T_R_1975245008</th>\n",
       "      <th>exm1633534-0_T_R_2060129411</th>\n",
       "      <th>exm1633538-0_B_R_1922080966</th>\n",
       "      <th>exm1633614-0_B_R_1922041120</th>\n",
       "      <th>exm2273238-0_B_F_1984849072</th>\n",
       "      <th>exm1633590-0_B_F_2060419211</th>\n",
       "      <th>exm1633583-0_B_R_2060131385</th>\n",
       "      <th>Smoking_status</th>\n",
       "    </tr>\n",
       "  </thead>\n",
       "  <tbody>\n",
       "    <tr>\n",
       "      <th>0</th>\n",
       "      <td>1900017</td>\n",
       "      <td>2</td>\n",
       "      <td>2</td>\n",
       "      <td>1</td>\n",
       "      <td>1</td>\n",
       "      <td>2</td>\n",
       "      <td>1</td>\n",
       "      <td>0</td>\n",
       "      <td>2</td>\n",
       "      <td>2</td>\n",
       "      <td>...</td>\n",
       "      <td>2</td>\n",
       "      <td>0</td>\n",
       "      <td>0</td>\n",
       "      <td>2</td>\n",
       "      <td>2</td>\n",
       "      <td>2</td>\n",
       "      <td>2</td>\n",
       "      <td>2</td>\n",
       "      <td>2</td>\n",
       "      <td>0</td>\n",
       "    </tr>\n",
       "    <tr>\n",
       "      <th>1</th>\n",
       "      <td>1900029</td>\n",
       "      <td>1</td>\n",
       "      <td>1</td>\n",
       "      <td>2</td>\n",
       "      <td>1</td>\n",
       "      <td>1</td>\n",
       "      <td>1</td>\n",
       "      <td>0</td>\n",
       "      <td>2</td>\n",
       "      <td>2</td>\n",
       "      <td>...</td>\n",
       "      <td>2</td>\n",
       "      <td>0</td>\n",
       "      <td>0</td>\n",
       "      <td>2</td>\n",
       "      <td>2</td>\n",
       "      <td>2</td>\n",
       "      <td>2</td>\n",
       "      <td>2</td>\n",
       "      <td>2</td>\n",
       "      <td>1</td>\n",
       "    </tr>\n",
       "    <tr>\n",
       "      <th>2</th>\n",
       "      <td>1900030</td>\n",
       "      <td>1</td>\n",
       "      <td>2</td>\n",
       "      <td>1</td>\n",
       "      <td>2</td>\n",
       "      <td>1</td>\n",
       "      <td>1</td>\n",
       "      <td>0</td>\n",
       "      <td>2</td>\n",
       "      <td>2</td>\n",
       "      <td>...</td>\n",
       "      <td>2</td>\n",
       "      <td>0</td>\n",
       "      <td>2</td>\n",
       "      <td>2</td>\n",
       "      <td>2</td>\n",
       "      <td>2</td>\n",
       "      <td>2</td>\n",
       "      <td>2</td>\n",
       "      <td>2</td>\n",
       "      <td>1</td>\n",
       "    </tr>\n",
       "    <tr>\n",
       "      <th>3</th>\n",
       "      <td>1900031</td>\n",
       "      <td>1</td>\n",
       "      <td>2</td>\n",
       "      <td>2</td>\n",
       "      <td>1</td>\n",
       "      <td>2</td>\n",
       "      <td>1</td>\n",
       "      <td>0</td>\n",
       "      <td>2</td>\n",
       "      <td>2</td>\n",
       "      <td>...</td>\n",
       "      <td>2</td>\n",
       "      <td>0</td>\n",
       "      <td>0</td>\n",
       "      <td>2</td>\n",
       "      <td>2</td>\n",
       "      <td>2</td>\n",
       "      <td>2</td>\n",
       "      <td>2</td>\n",
       "      <td>2</td>\n",
       "      <td>0</td>\n",
       "    </tr>\n",
       "    <tr>\n",
       "      <th>4</th>\n",
       "      <td>1900040</td>\n",
       "      <td>2</td>\n",
       "      <td>2</td>\n",
       "      <td>1</td>\n",
       "      <td>1</td>\n",
       "      <td>2</td>\n",
       "      <td>1</td>\n",
       "      <td>0</td>\n",
       "      <td>2</td>\n",
       "      <td>2</td>\n",
       "      <td>...</td>\n",
       "      <td>2</td>\n",
       "      <td>0</td>\n",
       "      <td>1</td>\n",
       "      <td>2</td>\n",
       "      <td>2</td>\n",
       "      <td>2</td>\n",
       "      <td>2</td>\n",
       "      <td>2</td>\n",
       "      <td>2</td>\n",
       "      <td>1</td>\n",
       "    </tr>\n",
       "  </tbody>\n",
       "</table>\n",
       "<p>5 rows × 7838 columns</p>\n",
       "</div>"
      ],
      "text/plain": [
       "        ID  exm3350-0_T_F_1921558625  exm-rs12025416-131_T_R_1990487911  \\\n",
       "0  1900017                         2                                  2   \n",
       "1  1900029                         1                                  1   \n",
       "2  1900030                         1                                  2   \n",
       "3  1900031                         1                                  2   \n",
       "4  1900040                         2                                  2   \n",
       "\n",
       "   exm21233-0_T_R_1921451944  exm2249550-0_T_F_1975242973  \\\n",
       "0                          1                            1   \n",
       "1                          2                            1   \n",
       "2                          1                            2   \n",
       "3                          2                            1   \n",
       "4                          1                            1   \n",
       "\n",
       "   exm20133-0_T_R_1921577924  exm60054-0_T_R_1921456966  \\\n",
       "0                          2                          1   \n",
       "1                          1                          1   \n",
       "2                          1                          1   \n",
       "3                          2                          1   \n",
       "4                          2                          1   \n",
       "\n",
       "   exm47882-0_T_R_1921419474  exm77508-0_T_R_1921386830  \\\n",
       "0                          0                          2   \n",
       "1                          0                          2   \n",
       "2                          0                          2   \n",
       "3                          0                          2   \n",
       "4                          0                          2   \n",
       "\n",
       "   exm90300-0_B_F_1921357425  ...  exm1633648-0_B_F_1922079779  \\\n",
       "0                          2  ...                            2   \n",
       "1                          2  ...                            2   \n",
       "2                          2  ...                            2   \n",
       "3                          2  ...                            2   \n",
       "4                          2  ...                            2   \n",
       "\n",
       "   exm1633532-0_T_R_1922080432  exm2263054-0_T_R_1975245008  \\\n",
       "0                            0                            0   \n",
       "1                            0                            0   \n",
       "2                            0                            2   \n",
       "3                            0                            0   \n",
       "4                            0                            1   \n",
       "\n",
       "   exm1633534-0_T_R_2060129411  exm1633538-0_B_R_1922080966  \\\n",
       "0                            2                            2   \n",
       "1                            2                            2   \n",
       "2                            2                            2   \n",
       "3                            2                            2   \n",
       "4                            2                            2   \n",
       "\n",
       "   exm1633614-0_B_R_1922041120  exm2273238-0_B_F_1984849072  \\\n",
       "0                            2                            2   \n",
       "1                            2                            2   \n",
       "2                            2                            2   \n",
       "3                            2                            2   \n",
       "4                            2                            2   \n",
       "\n",
       "   exm1633590-0_B_F_2060419211  exm1633583-0_B_R_2060131385  Smoking_status  \n",
       "0                            2                            2               0  \n",
       "1                            2                            2               1  \n",
       "2                            2                            2               1  \n",
       "3                            2                            2               0  \n",
       "4                            2                            2               1  \n",
       "\n",
       "[5 rows x 7838 columns]"
      ]
     },
     "execution_count": 46,
     "metadata": {},
     "output_type": "execute_result"
    }
   ],
   "source": [
    "df.head()"
   ]
  },
  {
   "cell_type": "code",
   "execution_count": 47,
   "metadata": {},
   "outputs": [],
   "source": [
    "scaled_features = df.iloc[:, 1:-1]\n",
    "\n",
    "labels=df.iloc[:, -1]\n",
    "\n",
    "# Diviser les données en ensembles d'entraînement et de test\n",
    "train_features, test_features, train_labels, test_labels = train_test_split(scaled_features, labels, test_size=0.2, random_state=42)"
   ]
  },
  {
   "cell_type": "code",
   "execution_count": 49,
   "metadata": {},
   "outputs": [
    {
     "data": {
      "image/png": "[encoded data removed]",
      "text/plain": [
       "<Figure size 800x600 with 1 Axes>"
      ]
     },
     "metadata": {},
     "output_type": "display_data"
    }
   ],
   "source": [
    "import numpy as np\n",
    "from sklearn.metrics import roc_curve, auc\n",
    "from sklearn.model_selection import KFold\n",
    "from sklearn.svm import SVC\n",
    "import matplotlib.pyplot as plt\n",
    "\n",
    "# Supposons que train_features et train_labels sont déjà définis\n",
    "\n",
    "# Créez un modèle SVM avec probabilité activée\n",
    "model = SVC(probability=True, random_state=42)\n",
    "\n",
    "# Créez un objet KFold pour la validation croisée à 10 plis\n",
    "kf = KFold(n_splits=10, shuffle=True, random_state=42)\n",
    "\n",
    "# Initialisez des listes pour stocker les valeurs fpr (taux de faux positifs) et tpr (taux de vrais positifs)\n",
    "fpr_list = []\n",
    "tpr_list = []\n",
    "roc_auc_list = []\n",
    "\n",
    "# Créez une figure pour afficher les courbes ROC\n",
    "plt.figure(figsize=(8, 6))\n",
    "\n",
    "for train_index, test_index in kf.split(train_features):\n",
    "    X_train_cv, X_test_cv = train_features.iloc[train_index], train_features.iloc[test_index]\n",
    "    y_train_cv, y_test_cv = train_labels.iloc[train_index], train_labels.iloc[test_index]\n",
    "\n",
    "    # Entraînez le modèle SVM sur l'ensemble de formation actuel\n",
    "    model.fit(X_train_cv, y_train_cv)\n",
    "\n",
    "    # Prédire les probabilités sur l'ensemble de test actuel\n",
    "    y_pred_prob = model.predict_proba(X_test_cv)[:, 1]\n",
    "\n",
    "    # Calculez le ROC AUC\n",
    "    fpr, tpr, _ = roc_curve(y_test_cv, y_pred_prob)\n",
    "    roc_auc = auc(fpr, tpr)\n",
    "\n",
    "    # Ajoutez les valeurs à la liste\n",
    "    fpr_list.append(fpr)\n",
    "    tpr_list.append(tpr)\n",
    "    roc_auc_list.append(roc_auc)\n",
    "\n",
    "# Tracez les courbes ROC pour chaque pli\n",
    "for i in range(len(fpr_list)):\n",
    "    plt.plot(fpr_list[i], tpr_list[i], lw=2, label=f'Fold {i+1} (AUC = {roc_auc_list[i]:.2f})')\n",
    "\n",
    "# Paramètres de la figure\n",
    "plt.plot([0, 1], [0, 1], 'k--', lw=2)\n",
    "plt.xlim([0.0, 1.0])\n",
    "plt.ylim([0.0, 1.05])\n",
    "plt.xlabel('False Positive Rate')\n",
    "plt.ylabel('True Positive Rate')\n",
    "plt.title('Receiver Operating Characteristic (ROC) - 10-Fold Cross Validation')\n",
    "plt.legend(loc=\"lower right\")\n",
    "plt.show()"
   ]
  }
 ],
 "metadata": {
  "kernelspec": {
   "display_name": "Python 3.10.12 64-bit",
   "language": "python",
   "name": "python3"
  },
  "language_info": {
   "codemirror_mode": {
    "name": "ipython",
    "version": 3
   },
   "file_extension": ".py",
   "mimetype": "text/x-python",
   "name": "python",
   "nbconvert_exporter": "python",
   "pygments_lexer": "ipython3",
   "version": "3.10.12"
  },
  "orig_nbformat": 4,
  "vscode": {
   "interpreter": {
    "hash": "916dbcbb3f70747c44a77c7bcd40155683ae19c65e1c03b4aa3499c5328201f1"
   }
  }
 },
 "nbformat": 4,
 "nbformat_minor": 2
}
